{
 "cells": [
  {
   "cell_type": "markdown",
   "id": "ad0f46a0-8077-4f7f-9e04-3bb8cf21d3f4",
   "metadata": {},
   "source": [
    "# 111學年大專院校校別學生數 資料集處理 (LATIA 112-1)\n",
    "TA: CSIE 116 王修佑"
   ]
  },
  {
   "cell_type": "markdown",
   "id": "b8bd3fcc-1be3-4d06-8674-363df88ac8b7",
   "metadata": {},
   "source": [
    "## 讀取資料"
   ]
  },
  {
   "cell_type": "code",
   "execution_count": 1,
   "id": "313b430a-a632-463b-8e7a-d3003260f7de",
   "metadata": {},
   "outputs": [
    {
     "data": {
      "text/plain": [
       "0"
      ]
     },
     "execution_count": 1,
     "metadata": {},
     "output_type": "execute_result"
    }
   ],
   "source": [
    "import pandas as pd\n",
    "\n",
    "df = pd.read_csv('111_student.csv', encoding='utf-8')\n",
    "df.isnull().sum().sum() #檢查空值數量"
   ]
  },
  {
   "cell_type": "code",
   "execution_count": 2,
   "id": "56e88f89-6e5f-40dc-88bf-c296d2c89008",
   "metadata": {},
   "outputs": [
    {
     "data": {
      "text/html": [
       "<div>\n",
       "<style scoped>\n",
       "    .dataframe tbody tr th:only-of-type {\n",
       "        vertical-align: middle;\n",
       "    }\n",
       "\n",
       "    .dataframe tbody tr th {\n",
       "        vertical-align: top;\n",
       "    }\n",
       "\n",
       "    .dataframe thead th {\n",
       "        text-align: right;\n",
       "    }\n",
       "</style>\n",
       "<table border=\"1\" class=\"dataframe\">\n",
       "  <thead>\n",
       "    <tr style=\"text-align: right;\">\n",
       "      <th></th>\n",
       "      <th>學校代碼</th>\n",
       "      <th>學校名稱</th>\n",
       "      <th>日間∕進修別</th>\n",
       "      <th>等級別</th>\n",
       "      <th>總計</th>\n",
       "      <th>男生計</th>\n",
       "      <th>女生計</th>\n",
       "      <th>一年級男生</th>\n",
       "      <th>一年級女生</th>\n",
       "      <th>二年級男生</th>\n",
       "      <th>...</th>\n",
       "      <th>五年級男生</th>\n",
       "      <th>五年級女生</th>\n",
       "      <th>六年級男生</th>\n",
       "      <th>六年級女生</th>\n",
       "      <th>七年級男生</th>\n",
       "      <th>七年級女生</th>\n",
       "      <th>延修生男生</th>\n",
       "      <th>延修生女生</th>\n",
       "      <th>縣市名稱</th>\n",
       "      <th>體系別</th>\n",
       "    </tr>\n",
       "  </thead>\n",
       "  <tbody>\n",
       "    <tr>\n",
       "      <th>0</th>\n",
       "      <td>1</td>\n",
       "      <td>國立政治大學</td>\n",
       "      <td>D 日</td>\n",
       "      <td>D 博士</td>\n",
       "      <td>922</td>\n",
       "      <td>530</td>\n",
       "      <td>392</td>\n",
       "      <td>78</td>\n",
       "      <td>63</td>\n",
       "      <td>88</td>\n",
       "      <td>...</td>\n",
       "      <td>70</td>\n",
       "      <td>50</td>\n",
       "      <td>66</td>\n",
       "      <td>45</td>\n",
       "      <td>75</td>\n",
       "      <td>40</td>\n",
       "      <td>-</td>\n",
       "      <td>-</td>\n",
       "      <td>30 臺北市</td>\n",
       "      <td>1 一般</td>\n",
       "    </tr>\n",
       "    <tr>\n",
       "      <th>1</th>\n",
       "      <td>1</td>\n",
       "      <td>國立政治大學</td>\n",
       "      <td>D 日</td>\n",
       "      <td>M 碩士</td>\n",
       "      <td>4,203</td>\n",
       "      <td>1,907</td>\n",
       "      <td>2,296</td>\n",
       "      <td>663</td>\n",
       "      <td>823</td>\n",
       "      <td>611</td>\n",
       "      <td>...</td>\n",
       "      <td>2</td>\n",
       "      <td>2</td>\n",
       "      <td>-</td>\n",
       "      <td>-</td>\n",
       "      <td>-</td>\n",
       "      <td>-</td>\n",
       "      <td>-</td>\n",
       "      <td>-</td>\n",
       "      <td>30 臺北市</td>\n",
       "      <td>1 一般</td>\n",
       "    </tr>\n",
       "    <tr>\n",
       "      <th>2</th>\n",
       "      <td>1</td>\n",
       "      <td>國立政治大學</td>\n",
       "      <td>D 日</td>\n",
       "      <td>B 學士</td>\n",
       "      <td>9,732</td>\n",
       "      <td>3,976</td>\n",
       "      <td>5,756</td>\n",
       "      <td>875</td>\n",
       "      <td>1,388</td>\n",
       "      <td>927</td>\n",
       "      <td>...</td>\n",
       "      <td>-</td>\n",
       "      <td>-</td>\n",
       "      <td>-</td>\n",
       "      <td>-</td>\n",
       "      <td>-</td>\n",
       "      <td>-</td>\n",
       "      <td>336</td>\n",
       "      <td>430</td>\n",
       "      <td>30 臺北市</td>\n",
       "      <td>1 一般</td>\n",
       "    </tr>\n",
       "    <tr>\n",
       "      <th>3</th>\n",
       "      <td>1</td>\n",
       "      <td>國立政治大學</td>\n",
       "      <td>N 職</td>\n",
       "      <td>M 碩士</td>\n",
       "      <td>1,870</td>\n",
       "      <td>921</td>\n",
       "      <td>949</td>\n",
       "      <td>278</td>\n",
       "      <td>292</td>\n",
       "      <td>278</td>\n",
       "      <td>...</td>\n",
       "      <td>68</td>\n",
       "      <td>61</td>\n",
       "      <td>1</td>\n",
       "      <td>1</td>\n",
       "      <td>-</td>\n",
       "      <td>-</td>\n",
       "      <td>-</td>\n",
       "      <td>-</td>\n",
       "      <td>30 臺北市</td>\n",
       "      <td>1 一般</td>\n",
       "    </tr>\n",
       "    <tr>\n",
       "      <th>4</th>\n",
       "      <td>2</td>\n",
       "      <td>國立清華大學</td>\n",
       "      <td>D 日</td>\n",
       "      <td>D 博士</td>\n",
       "      <td>1,669</td>\n",
       "      <td>1,169</td>\n",
       "      <td>500</td>\n",
       "      <td>227</td>\n",
       "      <td>97</td>\n",
       "      <td>215</td>\n",
       "      <td>...</td>\n",
       "      <td>139</td>\n",
       "      <td>67</td>\n",
       "      <td>94</td>\n",
       "      <td>41</td>\n",
       "      <td>131</td>\n",
       "      <td>54</td>\n",
       "      <td>-</td>\n",
       "      <td>-</td>\n",
       "      <td>18 新竹市</td>\n",
       "      <td>1 一般</td>\n",
       "    </tr>\n",
       "    <tr>\n",
       "      <th>...</th>\n",
       "      <td>...</td>\n",
       "      <td>...</td>\n",
       "      <td>...</td>\n",
       "      <td>...</td>\n",
       "      <td>...</td>\n",
       "      <td>...</td>\n",
       "      <td>...</td>\n",
       "      <td>...</td>\n",
       "      <td>...</td>\n",
       "      <td>...</td>\n",
       "      <td>...</td>\n",
       "      <td>...</td>\n",
       "      <td>...</td>\n",
       "      <td>...</td>\n",
       "      <td>...</td>\n",
       "      <td>...</td>\n",
       "      <td>...</td>\n",
       "      <td>...</td>\n",
       "      <td>...</td>\n",
       "      <td>...</td>\n",
       "      <td>...</td>\n",
       "    </tr>\n",
       "    <tr>\n",
       "      <th>778</th>\n",
       "      <td>1293</td>\n",
       "      <td>崇仁醫護管理專科學校</td>\n",
       "      <td>D 日</td>\n",
       "      <td>5 五專</td>\n",
       "      <td>3,051</td>\n",
       "      <td>431</td>\n",
       "      <td>2,620</td>\n",
       "      <td>82</td>\n",
       "      <td>511</td>\n",
       "      <td>106</td>\n",
       "      <td>...</td>\n",
       "      <td>68</td>\n",
       "      <td>507</td>\n",
       "      <td>-</td>\n",
       "      <td>-</td>\n",
       "      <td>-</td>\n",
       "      <td>-</td>\n",
       "      <td>14</td>\n",
       "      <td>41</td>\n",
       "      <td>10 嘉義縣</td>\n",
       "      <td>2 技職</td>\n",
       "    </tr>\n",
       "    <tr>\n",
       "      <th>779</th>\n",
       "      <td>3002</td>\n",
       "      <td>臺北市立大學</td>\n",
       "      <td>D 日</td>\n",
       "      <td>D 博士</td>\n",
       "      <td>211</td>\n",
       "      <td>95</td>\n",
       "      <td>116</td>\n",
       "      <td>16</td>\n",
       "      <td>17</td>\n",
       "      <td>15</td>\n",
       "      <td>...</td>\n",
       "      <td>12</td>\n",
       "      <td>12</td>\n",
       "      <td>6</td>\n",
       "      <td>8</td>\n",
       "      <td>18</td>\n",
       "      <td>25</td>\n",
       "      <td>-</td>\n",
       "      <td>-</td>\n",
       "      <td>30 臺北市</td>\n",
       "      <td>1 一般</td>\n",
       "    </tr>\n",
       "    <tr>\n",
       "      <th>780</th>\n",
       "      <td>3002</td>\n",
       "      <td>臺北市立大學</td>\n",
       "      <td>D 日</td>\n",
       "      <td>M 碩士</td>\n",
       "      <td>1,342</td>\n",
       "      <td>414</td>\n",
       "      <td>928</td>\n",
       "      <td>116</td>\n",
       "      <td>276</td>\n",
       "      <td>124</td>\n",
       "      <td>...</td>\n",
       "      <td>18</td>\n",
       "      <td>51</td>\n",
       "      <td>26</td>\n",
       "      <td>53</td>\n",
       "      <td>-</td>\n",
       "      <td>-</td>\n",
       "      <td>-</td>\n",
       "      <td>-</td>\n",
       "      <td>30 臺北市</td>\n",
       "      <td>1 一般</td>\n",
       "    </tr>\n",
       "    <tr>\n",
       "      <th>781</th>\n",
       "      <td>3002</td>\n",
       "      <td>臺北市立大學</td>\n",
       "      <td>D 日</td>\n",
       "      <td>B 學士</td>\n",
       "      <td>5,287</td>\n",
       "      <td>2,332</td>\n",
       "      <td>2,955</td>\n",
       "      <td>584</td>\n",
       "      <td>684</td>\n",
       "      <td>538</td>\n",
       "      <td>...</td>\n",
       "      <td>-</td>\n",
       "      <td>-</td>\n",
       "      <td>-</td>\n",
       "      <td>-</td>\n",
       "      <td>-</td>\n",
       "      <td>-</td>\n",
       "      <td>153</td>\n",
       "      <td>124</td>\n",
       "      <td>30 臺北市</td>\n",
       "      <td>1 一般</td>\n",
       "    </tr>\n",
       "    <tr>\n",
       "      <th>782</th>\n",
       "      <td>3002</td>\n",
       "      <td>臺北市立大學</td>\n",
       "      <td>N 職</td>\n",
       "      <td>M 碩士</td>\n",
       "      <td>1,191</td>\n",
       "      <td>328</td>\n",
       "      <td>863</td>\n",
       "      <td>112</td>\n",
       "      <td>268</td>\n",
       "      <td>90</td>\n",
       "      <td>...</td>\n",
       "      <td>25</td>\n",
       "      <td>51</td>\n",
       "      <td>18</td>\n",
       "      <td>48</td>\n",
       "      <td>-</td>\n",
       "      <td>-</td>\n",
       "      <td>-</td>\n",
       "      <td>-</td>\n",
       "      <td>30 臺北市</td>\n",
       "      <td>1 一般</td>\n",
       "    </tr>\n",
       "  </tbody>\n",
       "</table>\n",
       "<p>783 rows × 25 columns</p>\n",
       "</div>"
      ],
      "text/plain": [
       "     學校代碼        學校名稱 日間∕進修別   等級別     總計    男生計    女生計 一年級男生  一年級女生 二年級男生  \\\n",
       "0       1      國立政治大學    D 日  D 博士    922    530    392    78     63    88   \n",
       "1       1      國立政治大學    D 日  M 碩士  4,203  1,907  2,296   663    823   611   \n",
       "2       1      國立政治大學    D 日  B 學士  9,732  3,976  5,756   875  1,388   927   \n",
       "3       1      國立政治大學    N 職  M 碩士  1,870    921    949   278    292   278   \n",
       "4       2      國立清華大學    D 日  D 博士  1,669  1,169    500   227     97   215   \n",
       "..    ...         ...    ...   ...    ...    ...    ...   ...    ...   ...   \n",
       "778  1293  崇仁醫護管理專科學校    D 日  5 五專  3,051    431  2,620    82    511   106   \n",
       "779  3002      臺北市立大學    D 日  D 博士    211     95    116    16     17    15   \n",
       "780  3002      臺北市立大學    D 日  M 碩士  1,342    414    928   116    276   124   \n",
       "781  3002      臺北市立大學    D 日  B 學士  5,287  2,332  2,955   584    684   538   \n",
       "782  3002      臺北市立大學    N 職  M 碩士  1,191    328    863   112    268    90   \n",
       "\n",
       "     ... 五年級男生 五年級女生 六年級男生 六年級女生 七年級男生 七年級女生 延修生男生 延修生女生    縣市名稱   體系別  \n",
       "0    ...    70    50    66    45    75    40     -     -  30 臺北市  1 一般  \n",
       "1    ...     2     2     -     -     -     -     -     -  30 臺北市  1 一般  \n",
       "2    ...     -     -     -     -     -     -   336   430  30 臺北市  1 一般  \n",
       "3    ...    68    61     1     1     -     -     -     -  30 臺北市  1 一般  \n",
       "4    ...   139    67    94    41   131    54     -     -  18 新竹市  1 一般  \n",
       "..   ...   ...   ...   ...   ...   ...   ...   ...   ...     ...   ...  \n",
       "778  ...    68   507     -     -     -     -    14    41  10 嘉義縣  2 技職  \n",
       "779  ...    12    12     6     8    18    25     -     -  30 臺北市  1 一般  \n",
       "780  ...    18    51    26    53     -     -     -     -  30 臺北市  1 一般  \n",
       "781  ...     -     -     -     -     -     -   153   124  30 臺北市  1 一般  \n",
       "782  ...    25    51    18    48     -     -     -     -  30 臺北市  1 一般  \n",
       "\n",
       "[783 rows x 25 columns]"
      ]
     },
     "execution_count": 2,
     "metadata": {},
     "output_type": "execute_result"
    }
   ],
   "source": [
    "df"
   ]
  },
  {
   "cell_type": "markdown",
   "id": "b6156049-5179-448b-b078-d63807e35db9",
   "metadata": {},
   "source": [
    "## 1. Lab 01 - 資料概覽\n",
    "本資料集總共收集了多少學校，請依國立/私立、等級別、縣市別、北中南東區、體系別區分。"
   ]
  },
  {
   "cell_type": "markdown",
   "id": "904d9cd1-71b7-4ba7-8e55-a5e77d9552a8",
   "metadata": {},
   "source": [
    "### 國立？所；私立？所"
   ]
  },
  {
   "cell_type": "code",
   "execution_count": 3,
   "id": "127053cd-012e-451b-8d05-78547ab48f88",
   "metadata": {},
   "outputs": [],
   "source": [
    "type_list = []\n",
    "\n",
    "for i in df['學校名稱']:\n",
    "    if ('國立' in i) or ('市立' in i):\n",
    "        type_list.append('國立')\n",
    "    else:\n",
    "        type_list.append('私立')\n",
    "\n",
    "df['公私立'] = type_list # 將 Dataframe 新增「公私立」column"
   ]
  },
  {
   "cell_type": "code",
   "execution_count": 4,
   "id": "03f56475-9eb9-4fdc-8563-1bb85a3c2c96",
   "metadata": {},
   "outputs": [
    {
     "name": "stdout",
     "output_type": "stream",
     "text": [
      "本資料集共收集了 148 所學校，其中公立：47 所；私立：101 所。\n"
     ]
    }
   ],
   "source": [
    "df1 = df.drop_duplicates('學校代碼')\n",
    "count = df1['公私立'].value_counts()\n",
    "\n",
    "print(f\"本資料集共收集了 {len(df1)} 所學校，其中公立：{count['國立']} 所；私立：{count['私立']} 所。\")"
   ]
  },
  {
   "cell_type": "markdown",
   "id": "beef92c3-fd0a-484e-a7c3-9454ce906883",
   "metadata": {},
   "source": [
    "### 各等級別有？所"
   ]
  },
  {
   "cell_type": "code",
   "execution_count": 48,
   "id": "ac388637-0cff-4f74-a348-7ac17298640c",
   "metadata": {},
   "outputs": [
    {
     "name": "stdout",
     "output_type": "stream",
     "text": [
      "本資料集總共收集了 148 所學校，各等級學制當中：\n",
      "82 所有招收博士\n",
      "131 所有招收碩士\n",
      "68 所有招收學士\n",
      "1 所有招收4+X\n",
      "74 所有招收二技\n",
      "68 所有招收四技\n",
      "47 所有招收五專\n",
      "2 所有招收七年\n",
      "49 所有招收二專\n",
      "1 所有招收二年制\n"
     ]
    }
   ],
   "source": [
    "df1 = df.drop_duplicates(subset=['學校名稱', '等級別'])\n",
    "count = df1['等級別'].value_counts()\n",
    "degree_list = df['等級別'].unique()\n",
    "\n",
    "print(f\"本資料集總共收集了 {len(set(df['學校代碼']))} 所學校，各等級學制當中：\")\n",
    "for degree in degree_list:\n",
    "    print(f\"{count[degree]} 所有招收{degree[2:]}\")"
   ]
  },
  {
   "cell_type": "markdown",
   "id": "4a4b9a68-1b97-4e4f-a3cb-882ef899f7b6",
   "metadata": {},
   "source": [
    "### 各縣市分別有？所"
   ]
  },
  {
   "cell_type": "code",
   "execution_count": 6,
   "id": "e5775bf5-181d-4f4f-bc39-ae8dc4cd69d9",
   "metadata": {},
   "outputs": [],
   "source": [
    "city_list = []\n",
    "for i in df['縣市名稱']:\n",
    "    city_list.append(i[3:])\n",
    "df['縣市名稱'] = city_list"
   ]
  },
  {
   "cell_type": "code",
   "execution_count": 47,
   "id": "f705732a-87e1-4db3-9dcb-0d0102dc9d28",
   "metadata": {},
   "outputs": [
    {
     "name": "stdout",
     "output_type": "stream",
     "text": [
      "本資料集共收集了 148 所學校，其中：\n",
      "臺北市有 24 所\n",
      "新竹市有 5 所\n",
      "臺南市有 14 所\n",
      "臺中市有 17 所\n",
      "桃園市有 12 所\n",
      "高雄市有 16 所\n",
      "基隆市有 3 所\n",
      "嘉義縣有 4 所\n",
      "彰化縣有 5 所\n",
      "新北市有 20 所\n",
      "嘉義市有 2 所\n",
      "花蓮縣有 4 所\n",
      "南投縣有 2 所\n",
      "雲林縣有 3 所\n",
      "屏東縣有 5 所\n",
      "臺東縣有 2 所\n",
      "宜蘭縣有 3 所\n",
      "苗栗縣有 3 所\n",
      "澎湖縣有 1 所\n",
      "金門縣有 1 所\n",
      "新竹縣有 2 所\n"
     ]
    }
   ],
   "source": [
    "df1 = df.drop_duplicates('學校代碼')\n",
    "count = df1['縣市名稱'].value_counts()\n",
    "city_list = df1['縣市名稱'].unique()\n",
    "print(f\"本資料集共收集了 {len(df1)} 所學校，其中：\")\n",
    "for city in city_list:\n",
    "    print(f\"{city}有 {count[city]} 所\")"
   ]
  },
  {
   "cell_type": "markdown",
   "id": "a64f3998-b352-4ff2-9eb3-bb36990f0a53",
   "metadata": {},
   "source": [
    "### 北中南東區分別有？所\n",
    "\n",
    "> 都市及區域發展統計彙編 - 國發會 https://www.ndc.gov.tw/nc_77_4402"
   ]
  },
  {
   "cell_type": "code",
   "execution_count": 8,
   "id": "a209f011-c08b-4644-8e88-9e49171402b5",
   "metadata": {},
   "outputs": [],
   "source": [
    "city_to_area = {'臺北市':'北部', \n",
    "                '新北市':'北部', \n",
    "                '基隆市':'北部', \n",
    "                '新竹市':'北部', \n",
    "                '桃園市':'北部', \n",
    "                '新竹縣':'北部', \n",
    "                '宜蘭縣':'北部', \n",
    "                '臺中市':'中部', \n",
    "                '苗栗縣':'中部', \n",
    "                '彰化縣':'中部', \n",
    "                '南投縣':'中部', \n",
    "                '雲林縣':'中部', \n",
    "                '高雄市':'南部', \n",
    "                '臺南市':'南部', \n",
    "                '嘉義市':'南部', \n",
    "                '嘉義縣':'南部', \n",
    "                '屏東縣':'南部', \n",
    "                '澎湖縣':'南部', \n",
    "                '花蓮縣':'東部', \n",
    "                '臺東縣':'東部', \n",
    "                '金門縣':'福建省'}\n",
    "df['區域'] = df['縣市名稱'].map(city_to_area)"
   ]
  },
  {
   "cell_type": "code",
   "execution_count": 9,
   "id": "09d2d002-fd21-4d7b-bbcb-a45ed4871b8e",
   "metadata": {},
   "outputs": [
    {
     "name": "stdout",
     "output_type": "stream",
     "text": [
      "本資料集共收集了 148 所學校，其中：\n",
      "北部區域有 69 所；\n",
      "中部區域有 30 所；\n",
      "南部區域有 42 所；\n",
      "東部區域有 6 所；\n",
      "福建省區域有 1 所。\n"
     ]
    }
   ],
   "source": [
    "df1 = df.drop_duplicates('學校代碼')\n",
    "count = df1['區域'].value_counts()\n",
    "\n",
    "print(f\"本資料集共收集了 {len(df1)} 所學校，其中：\")\n",
    "print(f\"北部區域有 {count['北部']} 所；\\n中部區域有 {count['中部']} 所；\\n南部區域有 {count['南部']} 所；\\n東部區域有 {count['東部']} 所；\\n福建省區域有 {count['福建省']} 所。\")"
   ]
  },
  {
   "cell_type": "markdown",
   "id": "cafdb89d-62cf-4127-aef0-99092b3d8448",
   "metadata": {},
   "source": [
    "### 各體系別分別有？所"
   ]
  },
  {
   "cell_type": "code",
   "execution_count": 10,
   "id": "c1c1dee3-834f-4362-ac4a-f45fc73314c6",
   "metadata": {},
   "outputs": [
    {
     "name": "stdout",
     "output_type": "stream",
     "text": [
      "本資料集共收集了 148 所學校，其中：技職體系有 80 所；一般體系有 63 所；師範體系有 5 所。\n"
     ]
    }
   ],
   "source": [
    "df1 = df.drop_duplicates('學校代碼')\n",
    "count = df1['體系別'].value_counts()\n",
    "\n",
    "print(f\"本資料集共收集了 {len(df1)} 所學校，其中：技職體系有 {count['2 技職']} 所；一般體系有 {count['1 一般']} 所；師範體系有 {count['3 師範']} 所。\")"
   ]
  },
  {
   "cell_type": "markdown",
   "id": "7a2711ab-a500-4c0b-a409-e43df08a63f9",
   "metadata": {},
   "source": [
    "## Lab 02 - 國立/私立與男女比\n",
    "請問國立大學與私立大學在學男生女生比例為何? 延修生男生女生比例為何?"
   ]
  },
  {
   "cell_type": "code",
   "execution_count": 11,
   "id": "caf7b2ad-513d-4ffd-8e3d-797407af00f6",
   "metadata": {},
   "outputs": [
    {
     "data": {
      "text/html": [
       "<div>\n",
       "<style scoped>\n",
       "    .dataframe tbody tr th:only-of-type {\n",
       "        vertical-align: middle;\n",
       "    }\n",
       "\n",
       "    .dataframe tbody tr th {\n",
       "        vertical-align: top;\n",
       "    }\n",
       "\n",
       "    .dataframe thead th {\n",
       "        text-align: right;\n",
       "    }\n",
       "</style>\n",
       "<table border=\"1\" class=\"dataframe\">\n",
       "  <thead>\n",
       "    <tr style=\"text-align: right;\">\n",
       "      <th></th>\n",
       "      <th>學校代碼</th>\n",
       "      <th>學校名稱</th>\n",
       "      <th>日間∕進修別</th>\n",
       "      <th>等級別</th>\n",
       "      <th>總計</th>\n",
       "      <th>男生計</th>\n",
       "      <th>女生計</th>\n",
       "      <th>一年級男生</th>\n",
       "      <th>一年級女生</th>\n",
       "      <th>二年級男生</th>\n",
       "      <th>...</th>\n",
       "      <th>六年級男生</th>\n",
       "      <th>六年級女生</th>\n",
       "      <th>七年級男生</th>\n",
       "      <th>七年級女生</th>\n",
       "      <th>延修生男生</th>\n",
       "      <th>延修生女生</th>\n",
       "      <th>縣市名稱</th>\n",
       "      <th>體系別</th>\n",
       "      <th>公私立</th>\n",
       "      <th>區域</th>\n",
       "    </tr>\n",
       "  </thead>\n",
       "  <tbody>\n",
       "    <tr>\n",
       "      <th>0</th>\n",
       "      <td>1</td>\n",
       "      <td>國立政治大學</td>\n",
       "      <td>D 日</td>\n",
       "      <td>D 博士</td>\n",
       "      <td>922</td>\n",
       "      <td>530</td>\n",
       "      <td>392</td>\n",
       "      <td>78</td>\n",
       "      <td>63</td>\n",
       "      <td>88</td>\n",
       "      <td>...</td>\n",
       "      <td>66</td>\n",
       "      <td>45</td>\n",
       "      <td>75</td>\n",
       "      <td>40</td>\n",
       "      <td>0</td>\n",
       "      <td>0</td>\n",
       "      <td>臺北市</td>\n",
       "      <td>1 一般</td>\n",
       "      <td>國立</td>\n",
       "      <td>北部</td>\n",
       "    </tr>\n",
       "    <tr>\n",
       "      <th>1</th>\n",
       "      <td>1</td>\n",
       "      <td>國立政治大學</td>\n",
       "      <td>D 日</td>\n",
       "      <td>M 碩士</td>\n",
       "      <td>4203</td>\n",
       "      <td>1907</td>\n",
       "      <td>2296</td>\n",
       "      <td>663</td>\n",
       "      <td>823</td>\n",
       "      <td>611</td>\n",
       "      <td>...</td>\n",
       "      <td>0</td>\n",
       "      <td>0</td>\n",
       "      <td>0</td>\n",
       "      <td>0</td>\n",
       "      <td>0</td>\n",
       "      <td>0</td>\n",
       "      <td>臺北市</td>\n",
       "      <td>1 一般</td>\n",
       "      <td>國立</td>\n",
       "      <td>北部</td>\n",
       "    </tr>\n",
       "    <tr>\n",
       "      <th>2</th>\n",
       "      <td>1</td>\n",
       "      <td>國立政治大學</td>\n",
       "      <td>D 日</td>\n",
       "      <td>B 學士</td>\n",
       "      <td>9732</td>\n",
       "      <td>3976</td>\n",
       "      <td>5756</td>\n",
       "      <td>875</td>\n",
       "      <td>1388</td>\n",
       "      <td>927</td>\n",
       "      <td>...</td>\n",
       "      <td>0</td>\n",
       "      <td>0</td>\n",
       "      <td>0</td>\n",
       "      <td>0</td>\n",
       "      <td>336</td>\n",
       "      <td>430</td>\n",
       "      <td>臺北市</td>\n",
       "      <td>1 一般</td>\n",
       "      <td>國立</td>\n",
       "      <td>北部</td>\n",
       "    </tr>\n",
       "    <tr>\n",
       "      <th>3</th>\n",
       "      <td>1</td>\n",
       "      <td>國立政治大學</td>\n",
       "      <td>N 職</td>\n",
       "      <td>M 碩士</td>\n",
       "      <td>1870</td>\n",
       "      <td>921</td>\n",
       "      <td>949</td>\n",
       "      <td>278</td>\n",
       "      <td>292</td>\n",
       "      <td>278</td>\n",
       "      <td>...</td>\n",
       "      <td>1</td>\n",
       "      <td>1</td>\n",
       "      <td>0</td>\n",
       "      <td>0</td>\n",
       "      <td>0</td>\n",
       "      <td>0</td>\n",
       "      <td>臺北市</td>\n",
       "      <td>1 一般</td>\n",
       "      <td>國立</td>\n",
       "      <td>北部</td>\n",
       "    </tr>\n",
       "    <tr>\n",
       "      <th>4</th>\n",
       "      <td>2</td>\n",
       "      <td>國立清華大學</td>\n",
       "      <td>D 日</td>\n",
       "      <td>D 博士</td>\n",
       "      <td>1669</td>\n",
       "      <td>1169</td>\n",
       "      <td>500</td>\n",
       "      <td>227</td>\n",
       "      <td>97</td>\n",
       "      <td>215</td>\n",
       "      <td>...</td>\n",
       "      <td>94</td>\n",
       "      <td>41</td>\n",
       "      <td>131</td>\n",
       "      <td>54</td>\n",
       "      <td>0</td>\n",
       "      <td>0</td>\n",
       "      <td>新竹市</td>\n",
       "      <td>1 一般</td>\n",
       "      <td>國立</td>\n",
       "      <td>北部</td>\n",
       "    </tr>\n",
       "    <tr>\n",
       "      <th>...</th>\n",
       "      <td>...</td>\n",
       "      <td>...</td>\n",
       "      <td>...</td>\n",
       "      <td>...</td>\n",
       "      <td>...</td>\n",
       "      <td>...</td>\n",
       "      <td>...</td>\n",
       "      <td>...</td>\n",
       "      <td>...</td>\n",
       "      <td>...</td>\n",
       "      <td>...</td>\n",
       "      <td>...</td>\n",
       "      <td>...</td>\n",
       "      <td>...</td>\n",
       "      <td>...</td>\n",
       "      <td>...</td>\n",
       "      <td>...</td>\n",
       "      <td>...</td>\n",
       "      <td>...</td>\n",
       "      <td>...</td>\n",
       "      <td>...</td>\n",
       "    </tr>\n",
       "    <tr>\n",
       "      <th>778</th>\n",
       "      <td>1293</td>\n",
       "      <td>崇仁醫護管理專科學校</td>\n",
       "      <td>D 日</td>\n",
       "      <td>5 五專</td>\n",
       "      <td>3051</td>\n",
       "      <td>431</td>\n",
       "      <td>2620</td>\n",
       "      <td>82</td>\n",
       "      <td>511</td>\n",
       "      <td>106</td>\n",
       "      <td>...</td>\n",
       "      <td>0</td>\n",
       "      <td>0</td>\n",
       "      <td>0</td>\n",
       "      <td>0</td>\n",
       "      <td>14</td>\n",
       "      <td>41</td>\n",
       "      <td>嘉義縣</td>\n",
       "      <td>2 技職</td>\n",
       "      <td>私立</td>\n",
       "      <td>南部</td>\n",
       "    </tr>\n",
       "    <tr>\n",
       "      <th>779</th>\n",
       "      <td>3002</td>\n",
       "      <td>臺北市立大學</td>\n",
       "      <td>D 日</td>\n",
       "      <td>D 博士</td>\n",
       "      <td>211</td>\n",
       "      <td>95</td>\n",
       "      <td>116</td>\n",
       "      <td>16</td>\n",
       "      <td>17</td>\n",
       "      <td>15</td>\n",
       "      <td>...</td>\n",
       "      <td>6</td>\n",
       "      <td>8</td>\n",
       "      <td>18</td>\n",
       "      <td>25</td>\n",
       "      <td>0</td>\n",
       "      <td>0</td>\n",
       "      <td>臺北市</td>\n",
       "      <td>1 一般</td>\n",
       "      <td>國立</td>\n",
       "      <td>北部</td>\n",
       "    </tr>\n",
       "    <tr>\n",
       "      <th>780</th>\n",
       "      <td>3002</td>\n",
       "      <td>臺北市立大學</td>\n",
       "      <td>D 日</td>\n",
       "      <td>M 碩士</td>\n",
       "      <td>1342</td>\n",
       "      <td>414</td>\n",
       "      <td>928</td>\n",
       "      <td>116</td>\n",
       "      <td>276</td>\n",
       "      <td>124</td>\n",
       "      <td>...</td>\n",
       "      <td>26</td>\n",
       "      <td>53</td>\n",
       "      <td>0</td>\n",
       "      <td>0</td>\n",
       "      <td>0</td>\n",
       "      <td>0</td>\n",
       "      <td>臺北市</td>\n",
       "      <td>1 一般</td>\n",
       "      <td>國立</td>\n",
       "      <td>北部</td>\n",
       "    </tr>\n",
       "    <tr>\n",
       "      <th>781</th>\n",
       "      <td>3002</td>\n",
       "      <td>臺北市立大學</td>\n",
       "      <td>D 日</td>\n",
       "      <td>B 學士</td>\n",
       "      <td>5287</td>\n",
       "      <td>2332</td>\n",
       "      <td>2955</td>\n",
       "      <td>584</td>\n",
       "      <td>684</td>\n",
       "      <td>538</td>\n",
       "      <td>...</td>\n",
       "      <td>0</td>\n",
       "      <td>0</td>\n",
       "      <td>0</td>\n",
       "      <td>0</td>\n",
       "      <td>153</td>\n",
       "      <td>124</td>\n",
       "      <td>臺北市</td>\n",
       "      <td>1 一般</td>\n",
       "      <td>國立</td>\n",
       "      <td>北部</td>\n",
       "    </tr>\n",
       "    <tr>\n",
       "      <th>782</th>\n",
       "      <td>3002</td>\n",
       "      <td>臺北市立大學</td>\n",
       "      <td>N 職</td>\n",
       "      <td>M 碩士</td>\n",
       "      <td>1191</td>\n",
       "      <td>328</td>\n",
       "      <td>863</td>\n",
       "      <td>112</td>\n",
       "      <td>268</td>\n",
       "      <td>90</td>\n",
       "      <td>...</td>\n",
       "      <td>18</td>\n",
       "      <td>48</td>\n",
       "      <td>0</td>\n",
       "      <td>0</td>\n",
       "      <td>0</td>\n",
       "      <td>0</td>\n",
       "      <td>臺北市</td>\n",
       "      <td>1 一般</td>\n",
       "      <td>國立</td>\n",
       "      <td>北部</td>\n",
       "    </tr>\n",
       "  </tbody>\n",
       "</table>\n",
       "<p>783 rows × 27 columns</p>\n",
       "</div>"
      ],
      "text/plain": [
       "     學校代碼        學校名稱 日間∕進修別   等級別    總計   男生計   女生計 一年級男生 一年級女生 二年級男生  ...  \\\n",
       "0       1      國立政治大學    D 日  D 博士   922   530   392    78    63    88  ...   \n",
       "1       1      國立政治大學    D 日  M 碩士  4203  1907  2296   663   823   611  ...   \n",
       "2       1      國立政治大學    D 日  B 學士  9732  3976  5756   875  1388   927  ...   \n",
       "3       1      國立政治大學    N 職  M 碩士  1870   921   949   278   292   278  ...   \n",
       "4       2      國立清華大學    D 日  D 博士  1669  1169   500   227    97   215  ...   \n",
       "..    ...         ...    ...   ...   ...   ...   ...   ...   ...   ...  ...   \n",
       "778  1293  崇仁醫護管理專科學校    D 日  5 五專  3051   431  2620    82   511   106  ...   \n",
       "779  3002      臺北市立大學    D 日  D 博士   211    95   116    16    17    15  ...   \n",
       "780  3002      臺北市立大學    D 日  M 碩士  1342   414   928   116   276   124  ...   \n",
       "781  3002      臺北市立大學    D 日  B 學士  5287  2332  2955   584   684   538  ...   \n",
       "782  3002      臺北市立大學    N 職  M 碩士  1191   328   863   112   268    90  ...   \n",
       "\n",
       "    六年級男生 六年級女生 七年級男生 七年級女生 延修生男生 延修生女生 縣市名稱   體系別 公私立  區域  \n",
       "0      66    45    75    40     0     0  臺北市  1 一般  國立  北部  \n",
       "1       0     0     0     0     0     0  臺北市  1 一般  國立  北部  \n",
       "2       0     0     0     0   336   430  臺北市  1 一般  國立  北部  \n",
       "3       1     1     0     0     0     0  臺北市  1 一般  國立  北部  \n",
       "4      94    41   131    54     0     0  新竹市  1 一般  國立  北部  \n",
       "..    ...   ...   ...   ...   ...   ...  ...   ...  ..  ..  \n",
       "778     0     0     0     0    14    41  嘉義縣  2 技職  私立  南部  \n",
       "779     6     8    18    25     0     0  臺北市  1 一般  國立  北部  \n",
       "780    26    53     0     0     0     0  臺北市  1 一般  國立  北部  \n",
       "781     0     0     0     0   153   124  臺北市  1 一般  國立  北部  \n",
       "782    18    48     0     0     0     0  臺北市  1 一般  國立  北部  \n",
       "\n",
       "[783 rows x 27 columns]"
      ]
     },
     "execution_count": 11,
     "metadata": {},
     "output_type": "execute_result"
    }
   ],
   "source": [
    "# 空白值補零\n",
    "df = df.replace('-', 0, regex=True)\n",
    "df = df.replace(',', '', regex=True)\n",
    "df"
   ]
  },
  {
   "cell_type": "code",
   "execution_count": 12,
   "id": "88cc15c5-d358-47a3-a01e-1fc9c7241439",
   "metadata": {},
   "outputs": [],
   "source": [
    "count = {}\n",
    "\n",
    "def create_count_dict(df, count): # 建立多層 dict 結構來儲存各校在學與延修生的男女生數\n",
    "    df1 = df.drop_duplicates('學校代碼')\n",
    "    for i in df1['學校名稱']:\n",
    "        count[i] = {}\n",
    "        count[i]['在學生'] = {}\n",
    "        count[i]['在學生']['男生數'] = 0\n",
    "        count[i]['在學生']['女生數'] = 0\n",
    "        count[i]['延修生'] = {}\n",
    "        count[i]['延修生']['男生數'] = 0\n",
    "        count[i]['延修生']['女生數'] = 0\n",
    "\n",
    "def count_every_schools_data(df):\n",
    "    for j in range(len(df)):\n",
    "        count[df.iloc[j,1]]['在學生']['男生數'] += (int(df.iloc[j,7]) + int(df.iloc[j,9]) + int(df.iloc[j,11]) + int(df.iloc[j,13]) + int(df.iloc[j,15]) + int(df.iloc[j,17]) + int(df.iloc[j,19]))\n",
    "        count[df.iloc[j,1]]['在學生']['女生數'] += (int(df.iloc[j,8]) + int(df.iloc[j,10]) + int(df.iloc[j,12]) + int(df.iloc[j,14]) + int(df.iloc[j,16]) + int(df.iloc[j,18]) + int(df.iloc[j,20]))\n",
    "        count[df.iloc[j,1]]['延修生']['男生數'] += int(df.iloc[j,21])\n",
    "        count[df.iloc[j,1]]['延修生']['女生數'] += int(df.iloc[j,22])\n",
    "\n",
    "create_count_dict(df, count)\n",
    "count_every_schools_data(df)"
   ]
  },
  {
   "cell_type": "markdown",
   "id": "9fc31e46-037d-4344-a641-c2eb7586d01a",
   "metadata": {},
   "source": [
    "### 國立大學在學生男女比"
   ]
  },
  {
   "cell_type": "code",
   "execution_count": 13,
   "id": "1755c26f-fe0d-442d-a5c2-ff688d800518",
   "metadata": {},
   "outputs": [
    {
     "name": "stdout",
     "output_type": "stream",
     "text": [
      "國立大學在學生男女比：119.55686062487909 ≑ 119.56\n"
     ]
    }
   ],
   "source": [
    "public_current_male = 0\n",
    "public_current_female = 0\n",
    "\n",
    "df1 = df.drop_duplicates('學校代碼', ignore_index=True)\n",
    "for i in range(len(df1)):\n",
    "    if df1.loc[i,'公私立'] == '國立':\n",
    "        public_current_male += count[df1.loc[i,'學校名稱']]['在學生']['男生數']\n",
    "        public_current_female += count[df1.loc[i,'學校名稱']]['在學生']['女生數']\n",
    "\n",
    "ratio = public_current_male/public_current_female*100 # 男女比計算公式\n",
    "print(f'國立大學在學生男女比：{ratio} ≑ {round(ratio,2)}') # 四捨五入至小數點後兩位"
   ]
  },
  {
   "cell_type": "markdown",
   "id": "7fc9d2f7-3390-42ab-9f9e-b2cdb44a44c4",
   "metadata": {},
   "source": [
    "### 私立大學在學生男女比"
   ]
  },
  {
   "cell_type": "code",
   "execution_count": 14,
   "id": "e5b45a3c-c499-4366-a2f1-ed60bcdb45b4",
   "metadata": {},
   "outputs": [
    {
     "name": "stdout",
     "output_type": "stream",
     "text": [
      "私立大學在學生男女比：83.3794528902844 ≑ 83.38\n"
     ]
    }
   ],
   "source": [
    "private_current_male = 0\n",
    "private_current_female = 0\n",
    "\n",
    "df1 = df.drop_duplicates('學校代碼', ignore_index=True)\n",
    "for i in range(len(df1)):\n",
    "    if df1.loc[i,'公私立'] == '私立':\n",
    "        private_current_male += count[df1.loc[i,'學校名稱']]['在學生']['男生數']\n",
    "        private_current_female += count[df1.loc[i,'學校名稱']]['在學生']['女生數']\n",
    "\n",
    "ratio = private_current_male/private_current_female*100 # 男女比計算公式\n",
    "print(f'私立大學在學生男女比：{ratio} ≑ {round(ratio,2)}') # 四捨五入至小數點後兩位"
   ]
  },
  {
   "cell_type": "markdown",
   "id": "78e46c11-a4bf-47de-86ec-141a587d78cd",
   "metadata": {},
   "source": [
    "### 國立大學延修生男女比"
   ]
  },
  {
   "cell_type": "code",
   "execution_count": 15,
   "id": "f3c5c1f5-e555-43ee-bd84-ecc7830aeb2a",
   "metadata": {},
   "outputs": [
    {
     "name": "stdout",
     "output_type": "stream",
     "text": [
      "國立大學延修生男女比：146.46375791695988 ≑ 146.46\n"
     ]
    }
   ],
   "source": [
    "public_extension_male = 0\n",
    "public_extension_female = 0\n",
    "\n",
    "df1 = df.drop_duplicates('學校代碼', ignore_index=True)\n",
    "for i in range(len(df1)):\n",
    "    if df1.loc[i,'公私立'] == '國立':\n",
    "        public_extension_male += count[df1.loc[i,'學校名稱']]['延修生']['男生數']\n",
    "        public_extension_female += count[df1.loc[i,'學校名稱']]['延修生']['女生數']\n",
    "\n",
    "ratio = public_extension_male/public_extension_female*100 # 男女比計算公式\n",
    "print(f'國立大學延修生男女比：{ratio} ≑ {round(ratio,2)}') # 四捨五入至小數點後兩位"
   ]
  },
  {
   "cell_type": "markdown",
   "id": "7fed9f1a-6832-4c12-88ca-85f89498991f",
   "metadata": {},
   "source": [
    "### 私立大學延修生男女比"
   ]
  },
  {
   "cell_type": "code",
   "execution_count": 16,
   "id": "f34f6a45-5af5-41c2-af7f-618c4ec8550e",
   "metadata": {},
   "outputs": [
    {
     "name": "stdout",
     "output_type": "stream",
     "text": [
      "私立大學延修生男女比：134.9412577747063 ≑ 134.94\n"
     ]
    }
   ],
   "source": [
    "private_extension_male = 0\n",
    "private_extension_female = 0\n",
    "\n",
    "df1 = df.drop_duplicates('學校代碼', ignore_index=True)\n",
    "for i in range(len(df1)):\n",
    "    if df1.loc[i,'公私立'] == '私立':\n",
    "        private_extension_male += count[df1.loc[i,'學校名稱']]['延修生']['男生數']\n",
    "        private_extension_female += count[df1.loc[i,'學校名稱']]['延修生']['女生數']\n",
    "\n",
    "ratio = private_extension_male/private_extension_female*100 # 男女比計算公式\n",
    "print(f'私立大學延修生男女比：{ratio} ≑ {round(ratio,2)}') # 四捨五入至小數點後兩位"
   ]
  },
  {
   "cell_type": "markdown",
   "id": "9718bc1c-1090-45d9-9638-cb9631a651db",
   "metadata": {},
   "source": [
    "## Lab 03 - 體系與男女比\n",
    "請問各體系學校在學男生女生比例為何? 延修生男生女生比例為何?"
   ]
  },
  {
   "cell_type": "code",
   "execution_count": 17,
   "id": "a1426724-df93-4e49-99b7-6848e142e571",
   "metadata": {},
   "outputs": [
    {
     "name": "stdout",
     "output_type": "stream",
     "text": [
      "在一般體系別中\n",
      "在學生男女比：100.68112846225443 ≑ 100.68；延修生男女比：136.39408866995072 ≑ 136.39\n",
      "\n",
      "在師範體系別中\n",
      "在學生男女比：71.56995605929941 ≑ 71.57；延修生男女比：106.81818181818181 ≑ 106.82\n",
      "\n",
      "在技職體系別中\n",
      "在學生男女比：94.25437565490397 ≑ 94.25；延修生男女比：142.02714164546225 ≑ 142.03\n",
      "\n"
     ]
    }
   ],
   "source": [
    "# 以下待優化\n",
    "general_current_male = 0\n",
    "general_current_female = 0\n",
    "general_extension_male = 0\n",
    "general_extension_female = 0\n",
    "education_current_male = 0\n",
    "education_current_female = 0\n",
    "education_extension_male = 0\n",
    "education_extension_female = 0\n",
    "vocational_current_male = 0\n",
    "vocational_current_female = 0\n",
    "vocational_extension_male = 0\n",
    "vocational_extension_female = 0\n",
    "\n",
    "df1 = df.drop_duplicates('學校代碼', ignore_index=True)\n",
    "for i in range(len(df1)):\n",
    "    if df1.loc[i,'體系別'] == '1 一般':\n",
    "        general_current_male += count[df1.loc[i,'學校名稱']]['在學生']['男生數']\n",
    "        general_current_female += count[df1.loc[i,'學校名稱']]['在學生']['女生數']\n",
    "        general_extension_male += count[df1.loc[i,'學校名稱']]['延修生']['男生數']\n",
    "        general_extension_female += count[df1.loc[i,'學校名稱']]['延修生']['女生數']\n",
    "    elif df1.loc[i,'體系別'] == '3 師範':\n",
    "        education_current_male += count[df1.loc[i,'學校名稱']]['在學生']['男生數']\n",
    "        education_current_female += count[df1.loc[i,'學校名稱']]['在學生']['女生數']\n",
    "        education_extension_male += count[df1.loc[i,'學校名稱']]['延修生']['男生數']\n",
    "        education_extension_female += count[df1.loc[i,'學校名稱']]['延修生']['女生數']\n",
    "    elif df1.loc[i,'體系別'] == '2 技職':\n",
    "        vocational_current_male += count[df1.loc[i,'學校名稱']]['在學生']['男生數']\n",
    "        vocational_current_female += count[df1.loc[i,'學校名稱']]['在學生']['女生數']\n",
    "        vocational_extension_male += count[df1.loc[i,'學校名稱']]['延修生']['男生數']\n",
    "        vocational_extension_female += count[df1.loc[i,'學校名稱']]['延修生']['女生數']\n",
    "\n",
    "print(f'在一般體系別中\\n在學生男女比：{general_current_male/general_current_female*100} ≑ {round(general_current_male/general_current_female*100,2)}；延修生男女比：{general_extension_male/general_extension_female*100} ≑ {round(general_extension_male/general_extension_female*100,2)}\\n')\n",
    "print(f'在師範體系別中\\n在學生男女比：{education_current_male/education_current_female*100} ≑ {round(education_current_male/education_current_female*100,2)}；延修生男女比：{education_extension_male/education_extension_female*100} ≑ {round(education_extension_male/education_extension_female*100,2)}\\n')\n",
    "print(f'在技職體系別中\\n在學生男女比：{vocational_current_male/vocational_current_female*100} ≑ {round(vocational_current_male/vocational_current_female*100,2)}；延修生男女比：{vocational_extension_male/vocational_extension_female*100} ≑ {round(vocational_extension_male/vocational_extension_female*100,2)}\\n')"
   ]
  },
  {
   "cell_type": "markdown",
   "id": "80d060dd-ab4d-4a42-89fa-c7f71b95c879",
   "metadata": {},
   "source": [
    "## Lab 04 - 地緣與男女比\n",
    "請問各縣市學校在學男生女生比例為何? 北中南東各區在學男生女生比例為何?"
   ]
  },
  {
   "cell_type": "code",
   "execution_count": 24,
   "id": "ab243931-2cb2-4b2e-86f0-c67af6129733",
   "metadata": {},
   "outputs": [],
   "source": [
    "count1 = {}\n",
    "df_city = df.drop_duplicates('縣市名稱', ignore_index=True)\n",
    "df_area = df.drop_duplicates('區域', ignore_index=True)\n",
    "for i in df_area['區域']:\n",
    "    count1[i] = {}\n",
    "    for j in range(len(df_city)):\n",
    "        if df_city.loc[j, '區域'] == i:\n",
    "            count1[i][df_city.loc[j, '縣市名稱']] = {}\n",
    "            count1[i][df_city.loc[j, '縣市名稱']]['在學男生數'] = 0\n",
    "            count1[i][df_city.loc[j, '縣市名稱']]['在學女生數'] = 0\n",
    "\n",
    "for i in range(len(df)):\n",
    "    count1[df.loc[i, '區域']][df.loc[i, '縣市名稱']]['在學男生數'] += (int(df.iloc[i,7]) + int(df.iloc[i,9]) + int(df.iloc[i,11]) + int(df.iloc[i,13]) + int(df.iloc[i,15]) + int(df.iloc[i,17]) + int(df.iloc[i,19]))\n",
    "    count1[df.loc[i, '區域']][df.loc[i, '縣市名稱']]['在學女生數'] += (int(df.iloc[i,8]) + int(df.iloc[i,10]) + int(df.iloc[i,12]) + int(df.iloc[i,14]) + int(df.iloc[i,16]) + int(df.iloc[i,18]) + int(df.iloc[i,20]))"
   ]
  },
  {
   "cell_type": "markdown",
   "id": "aa8a0e62-77dc-4b03-9512-ffbb612011ce",
   "metadata": {},
   "source": [
    "### 各縣市學校在學男女比"
   ]
  },
  {
   "cell_type": "code",
   "execution_count": 37,
   "id": "792b781b-08d1-43fa-af5a-38b6fd365a1d",
   "metadata": {},
   "outputs": [
    {
     "name": "stdout",
     "output_type": "stream",
     "text": [
      "臺北市在學男女比為 88.19249054040942 ≑ 88.19\n",
      "新竹市在學男女比為 138.88615324010243 ≑ 138.89\n",
      "桃園市在學男女比為 109.98594486760973 ≑ 109.99\n",
      "基隆市在學男女比為 120.2080962445131 ≑ 120.21\n",
      "新北市在學男女比為 89.13528569889661 ≑ 89.14\n",
      "宜蘭縣在學男女比為 103.56342903685605 ≑ 103.56\n",
      "新竹縣在學男女比為 150.14520813165538 ≑ 150.15\n",
      "臺南市在學男女比為 93.00533958583729 ≑ 93.01\n",
      "高雄市在學男女比為 97.03158656038238 ≑ 97.03\n",
      "嘉義縣在學男女比為 94.9824091137544 ≑ 94.98\n",
      "嘉義市在學男女比為 103.10971348707199 ≑ 103.11\n",
      "屏東縣在學男女比為 74.55148754288285 ≑ 74.55\n",
      "澎湖縣在學男女比為 158.47145488029466 ≑ 158.47\n",
      "臺中市在學男女比為 86.90277421012073 ≑ 86.9\n",
      "彰化縣在學男女比為 128.85936268438238 ≑ 128.86\n",
      "南投縣在學男女比為 114.95372625426205 ≑ 114.95\n",
      "雲林縣在學男女比為 215.55434486515935 ≑ 215.55\n",
      "苗栗縣在學男女比為 95.18230723251644 ≑ 95.18\n",
      "花蓮縣在學男女比為 72.05682649117308 ≑ 72.06\n",
      "臺東縣在學男女比為 88.79973253092611 ≑ 88.8\n",
      "金門縣在學男女比為 109.23884514435696 ≑ 109.24\n"
     ]
    }
   ],
   "source": [
    "area_list = list(df['區域'].unique())\n",
    "for area in area_list:\n",
    "    for city in count1[area]:\n",
    "        print(f\"{city}在學男女比為 {count1[area][city]['在學男生數']/count1[area][city]['在學女生數']*100} ≑ {round(count1[area][city]['在學男生數']/count1[area][city]['在學女生數']*100,2)}\")"
   ]
  },
  {
   "cell_type": "markdown",
   "id": "f3cc50a7-4df0-4c6a-a163-2f4ad72ab59c",
   "metadata": {},
   "source": [
    "### 北中南東各區學校在學男女比"
   ]
  },
  {
   "cell_type": "code",
   "execution_count": 41,
   "id": "b3bb9181-e37d-4f8b-9434-021c61f76711",
   "metadata": {},
   "outputs": [
    {
     "name": "stdout",
     "output_type": "stream",
     "text": [
      "北部地區在學男女比為 97.81123382747066 ≑ 97.81\n",
      "南部地區在學男女比為 93.5387878185373 ≑ 93.54\n",
      "中部地區在學男女比為 99.19836889769581 ≑ 99.2\n",
      "東部地區在學男女比為 76.04266157274753 ≑ 76.04\n",
      "福建省地區在學男女比為 109.23884514435696 ≑ 109.24\n"
     ]
    }
   ],
   "source": [
    "area_male = 0\n",
    "area_female = 0\n",
    "area_list = list(df['區域'].unique())\n",
    "\n",
    "for area in area_list:\n",
    "    for city in count1[area]:\n",
    "        area_male += count1[area][city]['在學男生數']\n",
    "        area_female += count1[area][city]['在學女生數']\n",
    "    print(f\"{area}地區在學男女比為 {area_male/area_female*100} ≑ {round(area_male/area_female*100, 2)}\")\n",
    "    area_male, area_female = 0, 0"
   ]
  },
  {
   "cell_type": "markdown",
   "id": "550e62fe-f3a9-4046-8850-1bb749c40ad7",
   "metadata": {},
   "source": [
    "## Lab 05 - 學位等級別與男女比\n",
    "請問各學位等級別男生女生比例為何? 延修生男生女生比例為何?"
   ]
  },
  {
   "cell_type": "code",
   "execution_count": 56,
   "id": "3017e479-9254-47b4-8f39-aef46a2a8b57",
   "metadata": {},
   "outputs": [
    {
     "name": "stdout",
     "output_type": "stream",
     "text": [
      "博士男女比大約為 173.46\n",
      "碩士男女比大約為 111.29\n",
      "學士男女比大約為 94.72\n",
      "4+X男女比大約為 0\n",
      "二技男女比大約為 45.77\n",
      "四技男女比大約為 117.44\n",
      "五專男女比大約為 30.9\n",
      "七年男女比大約為 75.0\n",
      "二專男女比大約為 95.32\n",
      "二年制男女比大約為 181.82\n"
     ]
    }
   ],
   "source": [
    "degree_list = df['等級別'].unique()\n",
    "\n",
    "degree_male = 0\n",
    "degree_female = 0\n",
    "\n",
    "for degree in degree_list:\n",
    "    for i in range(len(df)):\n",
    "        if df.loc[i, '等級別'] == degree:\n",
    "            degree_male += (int(df.iloc[i,7]) + int(df.iloc[i,9]) + int(df.iloc[i,11]) + int(df.iloc[i,13]) + int(df.iloc[i,15]) + int(df.iloc[i,17]) + int(df.iloc[i,19]))\n",
    "            degree_female += (int(df.iloc[i,8]) + int(df.iloc[i,10]) + int(df.iloc[i,12]) + int(df.iloc[i,14]) + int(df.iloc[i,16]) + int(df.iloc[i,18]) + int(df.iloc[i,20]))\n",
    "    if degree_male == 0 or degree_female == 0:\n",
    "        print(f\"{degree[2:]}男女比大約為 {0}\")\n",
    "    else:\n",
    "        print(f\"{degree[2:]}男女比大約為 {round(degree_male/degree_female*100, 2)}\")\n",
    "    degree_male, degree_female = 0, 0"
   ]
  },
  {
   "cell_type": "markdown",
   "id": "bb2bd6da-6c98-4210-9ae3-cdb625369492",
   "metadata": {},
   "source": [
    "## Lab 06 - 國立、私立與學位等級別與男女比\n",
    "請問國立與私立大學各學位等級別男生女生比例為何? 延修生男生女生比例為何?"
   ]
  },
  {
   "cell_type": "markdown",
   "id": "9c11d8a6-5324-44a0-99f4-36f9f9182575",
   "metadata": {},
   "source": [
    "## Lab 07 - 國立、私立與體系與男女比\n",
    "請問國立與私立大學各體系男生女生比例為何? 延修生男生女生比例為何?"
   ]
  },
  {
   "cell_type": "markdown",
   "id": "9fa5e370-7e9b-4dff-8f32-01a6c722166a",
   "metadata": {},
   "source": [
    "## Lab 08 - 地緣與體系與男女比\n",
    "請問各區域學校體系男生女生比例為何? 延修生男生女生比例為何?"
   ]
  },
  {
   "cell_type": "markdown",
   "id": "43bc5e1a-45c5-427f-9a0e-3bc00e812cb9",
   "metadata": {},
   "source": [
    "## Lab 09 - 校均之最\n",
    "哪一個體系、區域平均每校人數最多與最少？"
   ]
  },
  {
   "cell_type": "markdown",
   "id": "ec511ac3-933a-4aab-b50e-a9f963b027c4",
   "metadata": {},
   "source": [
    "### 每校平均最多與最少人的體系"
   ]
  },
  {
   "cell_type": "markdown",
   "id": "b1fadced-bf92-45cb-bd4b-f2883390615a",
   "metadata": {},
   "source": [
    "### 每校平均最多與最少人的地區"
   ]
  },
  {
   "cell_type": "markdown",
   "id": "0782a9ac-d7e2-476e-9979-aa77391272c7",
   "metadata": {},
   "source": [
    "## Lab 10 - 人數之最"
   ]
  },
  {
   "cell_type": "markdown",
   "id": "395c7ef4-2df7-40a0-94a3-0a7d9532fcf5",
   "metadata": {},
   "source": [
    "### 全國最多與最少人的學校"
   ]
  },
  {
   "cell_type": "markdown",
   "id": "5c2d0d49-7298-480f-b269-43540ad92e91",
   "metadata": {},
   "source": [
    "### 各體系最多與最少人的學校"
   ]
  },
  {
   "cell_type": "markdown",
   "id": "7c6428ac-c823-41a7-a47e-ae0f0aeff542",
   "metadata": {},
   "source": [
    "### 各地區最多與最少人的學校"
   ]
  },
  {
   "cell_type": "code",
   "execution_count": null,
   "id": "9ef51a9e-edb7-484f-b2e4-ad1e04118b28",
   "metadata": {},
   "outputs": [],
   "source": []
  }
 ],
 "metadata": {
  "kernelspec": {
   "display_name": "Python 3 (ipykernel)",
   "language": "python",
   "name": "python3"
  },
  "language_info": {
   "codemirror_mode": {
    "name": "ipython",
    "version": 3
   },
   "file_extension": ".py",
   "mimetype": "text/x-python",
   "name": "python",
   "nbconvert_exporter": "python",
   "pygments_lexer": "ipython3",
   "version": "3.10.11"
  }
 },
 "nbformat": 4,
 "nbformat_minor": 5
}
