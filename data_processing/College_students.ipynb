{
 "cells": [
  {
   "cell_type": "code",
   "execution_count": null,
   "metadata": {
    "colab": {
     "base_uri": "https://localhost:8080/"
    },
    "id": "NLCkizesHBOa",
    "outputId": "d00158c7-6c8a-4891-8120-bbf7a5385d24"
   },
   "outputs": [],
   "source": [
    "# Connetced yourself Cloud Storage\n",
    "from google.colab import drive\n",
    "drive.mount('/content/drive')\n",
    "\n",
    "import os\n",
    "os.chdir('/content/drive/My Drive/112-1@LATIA/week2_091223')\n",
    "os.listdir()"
   ]
  },
  {
   "cell_type": "code",
   "execution_count": null,
   "metadata": {
    "id": "A_KlxYgfHxE_"
   },
   "outputs": [],
   "source": [
    "import pandas as pd\n",
    "\n",
    "raw_data = pd.read_csv('111_student.csv', encoding='utf8')"
   ]
  },
  {
   "cell_type": "code",
   "execution_count": null,
   "metadata": {
    "colab": {
     "base_uri": "https://localhost:8080/",
     "height": 444
    },
    "collapsed": true,
    "id": "zFoE2PT3TcMZ",
    "jupyter": {
     "outputs_hidden": true
    },
    "outputId": "c6654b9d-d699-4563-bab2-e55ca9fe1e14"
   },
   "outputs": [],
   "source": [
    "raw_data.head()"
   ]
  },
  {
   "cell_type": "code",
   "execution_count": null,
   "metadata": {
    "colab": {
     "base_uri": "https://localhost:8080/"
    },
    "id": "WgPrMnADYUT_",
    "outputId": "f7fdde77-9420-474e-a198-89aa4c964a1a"
   },
   "outputs": [],
   "source": [
    "import numpy as np\n",
    "np.set_printoptions(precision=None, threshold=None, edgeitems=None, linewidth=None, suppress=None, nanstr=None, infstr=None, formatter=None, sign=None, floatmode=None)  # reset print options\n",
    "##threshold\n",
    "# 當要列印的陣列太大時，NumPy會自動以...代替一部分的內容，以減少篇幅！\n",
    "# 但是可以透過全域設定set_printoptions設定threshold(門檻值)，\n",
    "# 元素數量少於或等於門檻值的陣列就會全部列印出來，\n",
    "# 相反地，元素數量高於門檻值，列印時就會省略部分內容。\n",
    "# 陣列大小:20，門檻值20 => 陣列元素數量小於等於門檻值，應列印全部內容\n",
    "# 讓列印出來的資料不斷行，使用lindwidth參數\n",
    "# 讓列印出來的資料不斷列，使用threshold參數\n",
    "\n",
    "# 查看 raw_data 前5筆資料並且讓列印出來的資料不斷行\n",
    "#np.set_printoptions(linewidth=np.inf, threshold=np.inf)\n",
    "np.printoptions(linewidth=np.inf, edgeitems=0)\n",
    "#print(raw_data.iloc[:,0:23])\n",
    "print(raw_data) #//待測試\n",
    "\n"
   ]
  },
  {
   "cell_type": "markdown",
   "metadata": {
    "id": "GsyRF3vHIDg7"
   },
   "source": [
    "1. 本資料集總共收集了多少學校，請依國立/私立、等級別、縣市別、北中南東區、體系別區分。\n",
    "2. 請問國立大學與私立大學在學男生女生比例為何?   延修生男生女生比例為何?\n",
    "3. 請問各體系學校在學男生女生比例為何?   延修生男生女生比例為何?\n",
    "4. 請問各縣市學校在學男生女生比例為何? 北中南東各區在學男生女生比例為何?\n",
    "5. 請問國立大學與私立大學等級別男生女生比例為何?   延修生男生女生比例為何?\n",
    "6. 請問各體系學校等級別男生女生比例為何?   延修生男生女生比例為何?\n",
    "7. 請問各縣市學校等級別男生女生比例為何?   北中南東各區在學男生女生比例為何?   延修生男生女生比例為何?\n",
    "8. 哪個學校在學人數最多?   依等級別區分? 依北中南東區分? 依體系別?\n",
    "\n"
   ]
  },
  {
   "cell_type": "code",
   "execution_count": null,
   "metadata": {
    "colab": {
     "base_uri": "https://localhost:8080/"
    },
    "id": "qSWcx2TURDAj",
    "outputId": "1ad096e2-fcbc-4505-9428-ebeaff0b5210"
   },
   "outputs": [],
   "source": [
    "# 資料轉換的範例\n",
    "# 將學校名稱轉換成國立與私立，並新插入一欄在dataset中\n",
    "# 將縣市別轉換成北中南東區，並新插入一欄在dataset中\n",
    "\n",
    "np.set_printoptions(precision=None, threshold=None, edgeitems=None, linewidth=None, suppress=None, nanstr=None, infstr=None, formatter=None, sign=None, floatmode=None)  # reset print options\n",
    "np.printoptions(linewidth=5)\n",
    "Public_private_counts = raw_data['學校名稱'].value_counts()\n",
    "print(Public_private_counts, '\\n')\n",
    "\n",
    "Institution_type_counts = raw_data['體系別'].value_counts()\n",
    "Institution_type_counts"
   ]
  },
  {
   "cell_type": "code",
   "execution_count": null,
   "metadata": {
    "id": "5QTNfnDWUu-6"
   },
   "outputs": [],
   "source": []
  },
  {
   "cell_type": "markdown",
   "metadata": {
    "id": "G3NGLtUHH8At"
   },
   "source": [
    "2. 請依據 39 號學生的行為紀錄回答下列問題：\n",
    "於 dp001 平台總共進行幾次不重複的影片瀏覽的學習紀錄? (dp001_review_sn)(dp001_video_item_sn)"
   ]
  },
  {
   "cell_type": "code",
   "execution_count": null,
   "metadata": {
    "id": "85Tu03SdTfdR"
   },
   "outputs": [],
   "source": []
  },
  {
   "cell_type": "code",
   "execution_count": null,
   "metadata": {
    "id": "fqAwbPCFTfAn"
   },
   "outputs": [],
   "source": []
  },
  {
   "cell_type": "markdown",
   "metadata": {
    "id": "xY1mGGjxLE1L"
   },
   "source": [
    "3. 請依據 71 號學生的行為紀錄回答下列問題：\n",
    "分別於哪幾天進入 dp001 平台? (dp001_review_start_time)( dp001_review_end_time)"
   ]
  },
  {
   "cell_type": "code",
   "execution_count": null,
   "metadata": {
    "id": "feoWBbKsTizb"
   },
   "outputs": [],
   "source": []
  },
  {
   "cell_type": "code",
   "execution_count": null,
   "metadata": {
    "id": "W8dqVm5dTinT"
   },
   "outputs": [],
   "source": []
  },
  {
   "cell_type": "markdown",
   "metadata": {
    "id": "GGVRuifQLroL"
   },
   "source": [
    "4. 請依據全體學生的行為紀錄回答下列問題：\n",
    "請找出在 dp001 平台中，最多影片瀏覽行為的影片序號 (dp001_review_sn)及其次數為多少?"
   ]
  },
  {
   "cell_type": "code",
   "execution_count": null,
   "metadata": {
    "id": "PFFCHLIRTkQT"
   },
   "outputs": [],
   "source": []
  },
  {
   "cell_type": "code",
   "execution_count": null,
   "metadata": {
    "id": "yjBx8X7hTkFG"
   },
   "outputs": [],
   "source": []
  },
  {
   "cell_type": "code",
   "execution_count": null,
   "metadata": {
    "id": "WqfipovsTm0-"
   },
   "outputs": [],
   "source": []
  },
  {
   "cell_type": "code",
   "execution_count": null,
   "metadata": {
    "id": "gSPIAdT0TmpV"
   },
   "outputs": [],
   "source": []
  },
  {
   "cell_type": "code",
   "execution_count": null,
   "metadata": {
    "id": "rXDD2w14TpKf"
   },
   "outputs": [],
   "source": []
  },
  {
   "cell_type": "code",
   "execution_count": null,
   "metadata": {
    "id": "IZFO9N69To_z"
   },
   "outputs": [],
   "source": []
  },
  {
   "cell_type": "code",
   "execution_count": null,
   "metadata": {
    "id": "xe0YTpE8Tq0L"
   },
   "outputs": [],
   "source": []
  },
  {
   "cell_type": "code",
   "execution_count": null,
   "metadata": {
    "id": "0L3yzZPhTqrE"
   },
   "outputs": [],
   "source": []
  },
  {
   "cell_type": "code",
   "execution_count": null,
   "metadata": {
    "id": "SQdyOw6DTsY1"
   },
   "outputs": [],
   "source": []
  },
  {
   "cell_type": "code",
   "execution_count": null,
   "metadata": {
    "id": "K57gbbTWTsTC"
   },
   "outputs": [],
   "source": []
  },
  {
   "cell_type": "code",
   "execution_count": null,
   "metadata": {
    "id": "PO_g7ulyTuZl"
   },
   "outputs": [],
   "source": []
  },
  {
   "cell_type": "code",
   "execution_count": null,
   "metadata": {
    "id": "udLuC-YcTuR0"
   },
   "outputs": [],
   "source": []
  },
  {
   "cell_type": "code",
   "execution_count": null,
   "metadata": {
    "id": "ShlRnIWmTwLT"
   },
   "outputs": [],
   "source": []
  },
  {
   "cell_type": "code",
   "execution_count": null,
   "metadata": {
    "id": "v_SH7ORMTwAl"
   },
   "outputs": [],
   "source": []
  }
 ],
 "metadata": {
  "colab": {
   "provenance": []
  },
  "kernelspec": {
   "display_name": "Python 3 (ipykernel)",
   "language": "python",
   "name": "python3"
  },
  "language_info": {
   "codemirror_mode": {
    "name": "ipython",
    "version": 3
   },
   "file_extension": ".py",
   "mimetype": "text/x-python",
   "name": "python",
   "nbconvert_exporter": "python",
   "pygments_lexer": "ipython3",
   "version": "3.10.11"
  }
 },
 "nbformat": 4,
 "nbformat_minor": 4
}
