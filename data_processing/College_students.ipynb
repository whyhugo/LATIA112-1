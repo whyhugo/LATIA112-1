{
  "nbformat": 4,
  "nbformat_minor": 0,
  "metadata": {
    "colab": {
      "provenance": []
    },
    "kernelspec": {
      "name": "python3",
      "display_name": "Python 3"
    },
    "language_info": {
      "name": "python"
    }
  },
  "cells": [
    {
      "cell_type": "code",
      "execution_count": 1,
      "metadata": {
        "id": "NLCkizesHBOa",
        "colab": {
          "base_uri": "https://localhost:8080/"
        },
        "outputId": "d00158c7-6c8a-4891-8120-bbf7a5385d24"
      },
      "outputs": [
        {
          "output_type": "stream",
          "name": "stdout",
          "text": [
            "Mounted at /content/drive\n"
          ]
        },
        {
          "output_type": "execute_result",
          "data": {
            "text/plain": [
              "['poster_24.jpg',\n",
              " 'poster_25.jpg',\n",
              " 'knowledge_06.pdf',\n",
              " '20230330_lecture01.pdf',\n",
              " '20230330_lecture02.pdf',\n",
              " '報一 國科會 懶人包.pdf',\n",
              " '111_student.csv',\n",
              " 'edu_sample_data.csv',\n",
              " 'EduData_Ans.ipynb',\n",
              " 'LATIA_key.txt',\n",
              " 'Chatgpt_demo.ipynb',\n",
              " 'EduData.ipynb',\n",
              " '112-1學習分析工具實務應用LATIA _Week2.pptx',\n",
              " 'OneDrive_1_2023-9-12.zip']"
            ]
          },
          "metadata": {},
          "execution_count": 1
        }
      ],
      "source": [
        "# Connetced yourself Cloud Storage\n",
        "from google.colab import drive\n",
        "drive.mount('/content/drive')\n",
        "\n",
        "import os\n",
        "os.chdir('/content/drive/My Drive/112-1@LATIA/week2_091223')\n",
        "os.listdir()"
      ]
    },
    {
      "cell_type": "code",
      "source": [
        "import pandas as pd\n",
        "\n",
        "raw_data = pd.read_csv('111_student.csv', encoding='utf8')"
      ],
      "metadata": {
        "id": "A_KlxYgfHxE_"
      },
      "execution_count": 25,
      "outputs": []
    },
    {
      "cell_type": "code",
      "source": [
        "raw_data.head()"
      ],
      "metadata": {
        "id": "zFoE2PT3TcMZ",
        "colab": {
          "base_uri": "https://localhost:8080/",
          "height": 444
        },
        "outputId": "c6654b9d-d699-4563-bab2-e55ca9fe1e14"
      },
      "execution_count": 3,
      "outputs": [
        {
          "output_type": "execute_result",
          "data": {
            "text/plain": [
              "   學校代碼    學校名稱 日間∕進修別   等級別     總計    男生計    女生計 一年級男生  一年級女生 二年級男生  ...  \\\n",
              "0     1  國立政治大學    D 日  D 博士    922    530    392    78     63    88  ...   \n",
              "1     1  國立政治大學    D 日  M 碩士  4,203  1,907  2,296   663    823   611  ...   \n",
              "2     1  國立政治大學    D 日  B 學士  9,732  3,976  5,756   875  1,388   927  ...   \n",
              "3     1  國立政治大學    N 職  M 碩士  1,870    921    949   278    292   278  ...   \n",
              "4     2  國立清華大學    D 日  D 博士  1,669  1,169    500   227     97   215  ...   \n",
              "\n",
              "  五年級男生 五年級女生 六年級男生 六年級女生 七年級男生 七年級女生 延修生男生 延修生女生    縣市名稱   體系別  \n",
              "0    70    50    66    45    75    40     -     -  30 臺北市  1 一般  \n",
              "1     2     2     -     -     -     -     -     -  30 臺北市  1 一般  \n",
              "2     -     -     -     -     -     -   336   430  30 臺北市  1 一般  \n",
              "3    68    61     1     1     -     -     -     -  30 臺北市  1 一般  \n",
              "4   139    67    94    41   131    54     -     -  18 新竹市  1 一般  \n",
              "\n",
              "[5 rows x 25 columns]"
            ],
            "text/html": [
              "\n",
              "  <div id=\"df-fea9e1bb-4303-4f38-a383-5f86e289f8d1\" class=\"colab-df-container\">\n",
              "    <div>\n",
              "<style scoped>\n",
              "    .dataframe tbody tr th:only-of-type {\n",
              "        vertical-align: middle;\n",
              "    }\n",
              "\n",
              "    .dataframe tbody tr th {\n",
              "        vertical-align: top;\n",
              "    }\n",
              "\n",
              "    .dataframe thead th {\n",
              "        text-align: right;\n",
              "    }\n",
              "</style>\n",
              "<table border=\"1\" class=\"dataframe\">\n",
              "  <thead>\n",
              "    <tr style=\"text-align: right;\">\n",
              "      <th></th>\n",
              "      <th>學校代碼</th>\n",
              "      <th>學校名稱</th>\n",
              "      <th>日間∕進修別</th>\n",
              "      <th>等級別</th>\n",
              "      <th>總計</th>\n",
              "      <th>男生計</th>\n",
              "      <th>女生計</th>\n",
              "      <th>一年級男生</th>\n",
              "      <th>一年級女生</th>\n",
              "      <th>二年級男生</th>\n",
              "      <th>...</th>\n",
              "      <th>五年級男生</th>\n",
              "      <th>五年級女生</th>\n",
              "      <th>六年級男生</th>\n",
              "      <th>六年級女生</th>\n",
              "      <th>七年級男生</th>\n",
              "      <th>七年級女生</th>\n",
              "      <th>延修生男生</th>\n",
              "      <th>延修生女生</th>\n",
              "      <th>縣市名稱</th>\n",
              "      <th>體系別</th>\n",
              "    </tr>\n",
              "  </thead>\n",
              "  <tbody>\n",
              "    <tr>\n",
              "      <th>0</th>\n",
              "      <td>1</td>\n",
              "      <td>國立政治大學</td>\n",
              "      <td>D 日</td>\n",
              "      <td>D 博士</td>\n",
              "      <td>922</td>\n",
              "      <td>530</td>\n",
              "      <td>392</td>\n",
              "      <td>78</td>\n",
              "      <td>63</td>\n",
              "      <td>88</td>\n",
              "      <td>...</td>\n",
              "      <td>70</td>\n",
              "      <td>50</td>\n",
              "      <td>66</td>\n",
              "      <td>45</td>\n",
              "      <td>75</td>\n",
              "      <td>40</td>\n",
              "      <td>-</td>\n",
              "      <td>-</td>\n",
              "      <td>30 臺北市</td>\n",
              "      <td>1 一般</td>\n",
              "    </tr>\n",
              "    <tr>\n",
              "      <th>1</th>\n",
              "      <td>1</td>\n",
              "      <td>國立政治大學</td>\n",
              "      <td>D 日</td>\n",
              "      <td>M 碩士</td>\n",
              "      <td>4,203</td>\n",
              "      <td>1,907</td>\n",
              "      <td>2,296</td>\n",
              "      <td>663</td>\n",
              "      <td>823</td>\n",
              "      <td>611</td>\n",
              "      <td>...</td>\n",
              "      <td>2</td>\n",
              "      <td>2</td>\n",
              "      <td>-</td>\n",
              "      <td>-</td>\n",
              "      <td>-</td>\n",
              "      <td>-</td>\n",
              "      <td>-</td>\n",
              "      <td>-</td>\n",
              "      <td>30 臺北市</td>\n",
              "      <td>1 一般</td>\n",
              "    </tr>\n",
              "    <tr>\n",
              "      <th>2</th>\n",
              "      <td>1</td>\n",
              "      <td>國立政治大學</td>\n",
              "      <td>D 日</td>\n",
              "      <td>B 學士</td>\n",
              "      <td>9,732</td>\n",
              "      <td>3,976</td>\n",
              "      <td>5,756</td>\n",
              "      <td>875</td>\n",
              "      <td>1,388</td>\n",
              "      <td>927</td>\n",
              "      <td>...</td>\n",
              "      <td>-</td>\n",
              "      <td>-</td>\n",
              "      <td>-</td>\n",
              "      <td>-</td>\n",
              "      <td>-</td>\n",
              "      <td>-</td>\n",
              "      <td>336</td>\n",
              "      <td>430</td>\n",
              "      <td>30 臺北市</td>\n",
              "      <td>1 一般</td>\n",
              "    </tr>\n",
              "    <tr>\n",
              "      <th>3</th>\n",
              "      <td>1</td>\n",
              "      <td>國立政治大學</td>\n",
              "      <td>N 職</td>\n",
              "      <td>M 碩士</td>\n",
              "      <td>1,870</td>\n",
              "      <td>921</td>\n",
              "      <td>949</td>\n",
              "      <td>278</td>\n",
              "      <td>292</td>\n",
              "      <td>278</td>\n",
              "      <td>...</td>\n",
              "      <td>68</td>\n",
              "      <td>61</td>\n",
              "      <td>1</td>\n",
              "      <td>1</td>\n",
              "      <td>-</td>\n",
              "      <td>-</td>\n",
              "      <td>-</td>\n",
              "      <td>-</td>\n",
              "      <td>30 臺北市</td>\n",
              "      <td>1 一般</td>\n",
              "    </tr>\n",
              "    <tr>\n",
              "      <th>4</th>\n",
              "      <td>2</td>\n",
              "      <td>國立清華大學</td>\n",
              "      <td>D 日</td>\n",
              "      <td>D 博士</td>\n",
              "      <td>1,669</td>\n",
              "      <td>1,169</td>\n",
              "      <td>500</td>\n",
              "      <td>227</td>\n",
              "      <td>97</td>\n",
              "      <td>215</td>\n",
              "      <td>...</td>\n",
              "      <td>139</td>\n",
              "      <td>67</td>\n",
              "      <td>94</td>\n",
              "      <td>41</td>\n",
              "      <td>131</td>\n",
              "      <td>54</td>\n",
              "      <td>-</td>\n",
              "      <td>-</td>\n",
              "      <td>18 新竹市</td>\n",
              "      <td>1 一般</td>\n",
              "    </tr>\n",
              "  </tbody>\n",
              "</table>\n",
              "<p>5 rows × 25 columns</p>\n",
              "</div>\n",
              "    <div class=\"colab-df-buttons\">\n",
              "\n",
              "  <div class=\"colab-df-container\">\n",
              "    <button class=\"colab-df-convert\" onclick=\"convertToInteractive('df-fea9e1bb-4303-4f38-a383-5f86e289f8d1')\"\n",
              "            title=\"Convert this dataframe to an interactive table.\"\n",
              "            style=\"display:none;\">\n",
              "\n",
              "  <svg xmlns=\"http://www.w3.org/2000/svg\" height=\"24px\" viewBox=\"0 -960 960 960\">\n",
              "    <path d=\"M120-120v-720h720v720H120Zm60-500h600v-160H180v160Zm220 220h160v-160H400v160Zm0 220h160v-160H400v160ZM180-400h160v-160H180v160Zm440 0h160v-160H620v160ZM180-180h160v-160H180v160Zm440 0h160v-160H620v160Z\"/>\n",
              "  </svg>\n",
              "    </button>\n",
              "\n",
              "  <style>\n",
              "    .colab-df-container {\n",
              "      display:flex;\n",
              "      gap: 12px;\n",
              "    }\n",
              "\n",
              "    .colab-df-convert {\n",
              "      background-color: #E8F0FE;\n",
              "      border: none;\n",
              "      border-radius: 50%;\n",
              "      cursor: pointer;\n",
              "      display: none;\n",
              "      fill: #1967D2;\n",
              "      height: 32px;\n",
              "      padding: 0 0 0 0;\n",
              "      width: 32px;\n",
              "    }\n",
              "\n",
              "    .colab-df-convert:hover {\n",
              "      background-color: #E2EBFA;\n",
              "      box-shadow: 0px 1px 2px rgba(60, 64, 67, 0.3), 0px 1px 3px 1px rgba(60, 64, 67, 0.15);\n",
              "      fill: #174EA6;\n",
              "    }\n",
              "\n",
              "    .colab-df-buttons div {\n",
              "      margin-bottom: 4px;\n",
              "    }\n",
              "\n",
              "    [theme=dark] .colab-df-convert {\n",
              "      background-color: #3B4455;\n",
              "      fill: #D2E3FC;\n",
              "    }\n",
              "\n",
              "    [theme=dark] .colab-df-convert:hover {\n",
              "      background-color: #434B5C;\n",
              "      box-shadow: 0px 1px 3px 1px rgba(0, 0, 0, 0.15);\n",
              "      filter: drop-shadow(0px 1px 2px rgba(0, 0, 0, 0.3));\n",
              "      fill: #FFFFFF;\n",
              "    }\n",
              "  </style>\n",
              "\n",
              "    <script>\n",
              "      const buttonEl =\n",
              "        document.querySelector('#df-fea9e1bb-4303-4f38-a383-5f86e289f8d1 button.colab-df-convert');\n",
              "      buttonEl.style.display =\n",
              "        google.colab.kernel.accessAllowed ? 'block' : 'none';\n",
              "\n",
              "      async function convertToInteractive(key) {\n",
              "        const element = document.querySelector('#df-fea9e1bb-4303-4f38-a383-5f86e289f8d1');\n",
              "        const dataTable =\n",
              "          await google.colab.kernel.invokeFunction('convertToInteractive',\n",
              "                                                    [key], {});\n",
              "        if (!dataTable) return;\n",
              "\n",
              "        const docLinkHtml = 'Like what you see? Visit the ' +\n",
              "          '<a target=\"_blank\" href=https://colab.research.google.com/notebooks/data_table.ipynb>data table notebook</a>'\n",
              "          + ' to learn more about interactive tables.';\n",
              "        element.innerHTML = '';\n",
              "        dataTable['output_type'] = 'display_data';\n",
              "        await google.colab.output.renderOutput(dataTable, element);\n",
              "        const docLink = document.createElement('div');\n",
              "        docLink.innerHTML = docLinkHtml;\n",
              "        element.appendChild(docLink);\n",
              "      }\n",
              "    </script>\n",
              "  </div>\n",
              "\n",
              "\n",
              "<div id=\"df-6beb00e7-b86d-4466-a29a-b5a5568c9186\">\n",
              "  <button class=\"colab-df-quickchart\" onclick=\"quickchart('df-6beb00e7-b86d-4466-a29a-b5a5568c9186')\"\n",
              "            title=\"Suggest charts.\"\n",
              "            style=\"display:none;\">\n",
              "\n",
              "<svg xmlns=\"http://www.w3.org/2000/svg\" height=\"24px\"viewBox=\"0 0 24 24\"\n",
              "     width=\"24px\">\n",
              "    <g>\n",
              "        <path d=\"M19 3H5c-1.1 0-2 .9-2 2v14c0 1.1.9 2 2 2h14c1.1 0 2-.9 2-2V5c0-1.1-.9-2-2-2zM9 17H7v-7h2v7zm4 0h-2V7h2v10zm4 0h-2v-4h2v4z\"/>\n",
              "    </g>\n",
              "</svg>\n",
              "  </button>\n",
              "\n",
              "<style>\n",
              "  .colab-df-quickchart {\n",
              "      --bg-color: #E8F0FE;\n",
              "      --fill-color: #1967D2;\n",
              "      --hover-bg-color: #E2EBFA;\n",
              "      --hover-fill-color: #174EA6;\n",
              "      --disabled-fill-color: #AAA;\n",
              "      --disabled-bg-color: #DDD;\n",
              "  }\n",
              "\n",
              "  [theme=dark] .colab-df-quickchart {\n",
              "      --bg-color: #3B4455;\n",
              "      --fill-color: #D2E3FC;\n",
              "      --hover-bg-color: #434B5C;\n",
              "      --hover-fill-color: #FFFFFF;\n",
              "      --disabled-bg-color: #3B4455;\n",
              "      --disabled-fill-color: #666;\n",
              "  }\n",
              "\n",
              "  .colab-df-quickchart {\n",
              "    background-color: var(--bg-color);\n",
              "    border: none;\n",
              "    border-radius: 50%;\n",
              "    cursor: pointer;\n",
              "    display: none;\n",
              "    fill: var(--fill-color);\n",
              "    height: 32px;\n",
              "    padding: 0;\n",
              "    width: 32px;\n",
              "  }\n",
              "\n",
              "  .colab-df-quickchart:hover {\n",
              "    background-color: var(--hover-bg-color);\n",
              "    box-shadow: 0 1px 2px rgba(60, 64, 67, 0.3), 0 1px 3px 1px rgba(60, 64, 67, 0.15);\n",
              "    fill: var(--button-hover-fill-color);\n",
              "  }\n",
              "\n",
              "  .colab-df-quickchart-complete:disabled,\n",
              "  .colab-df-quickchart-complete:disabled:hover {\n",
              "    background-color: var(--disabled-bg-color);\n",
              "    fill: var(--disabled-fill-color);\n",
              "    box-shadow: none;\n",
              "  }\n",
              "\n",
              "  .colab-df-spinner {\n",
              "    border: 2px solid var(--fill-color);\n",
              "    border-color: transparent;\n",
              "    border-bottom-color: var(--fill-color);\n",
              "    animation:\n",
              "      spin 1s steps(1) infinite;\n",
              "  }\n",
              "\n",
              "  @keyframes spin {\n",
              "    0% {\n",
              "      border-color: transparent;\n",
              "      border-bottom-color: var(--fill-color);\n",
              "      border-left-color: var(--fill-color);\n",
              "    }\n",
              "    20% {\n",
              "      border-color: transparent;\n",
              "      border-left-color: var(--fill-color);\n",
              "      border-top-color: var(--fill-color);\n",
              "    }\n",
              "    30% {\n",
              "      border-color: transparent;\n",
              "      border-left-color: var(--fill-color);\n",
              "      border-top-color: var(--fill-color);\n",
              "      border-right-color: var(--fill-color);\n",
              "    }\n",
              "    40% {\n",
              "      border-color: transparent;\n",
              "      border-right-color: var(--fill-color);\n",
              "      border-top-color: var(--fill-color);\n",
              "    }\n",
              "    60% {\n",
              "      border-color: transparent;\n",
              "      border-right-color: var(--fill-color);\n",
              "    }\n",
              "    80% {\n",
              "      border-color: transparent;\n",
              "      border-right-color: var(--fill-color);\n",
              "      border-bottom-color: var(--fill-color);\n",
              "    }\n",
              "    90% {\n",
              "      border-color: transparent;\n",
              "      border-bottom-color: var(--fill-color);\n",
              "    }\n",
              "  }\n",
              "</style>\n",
              "\n",
              "  <script>\n",
              "    async function quickchart(key) {\n",
              "      const quickchartButtonEl =\n",
              "        document.querySelector('#' + key + ' button');\n",
              "      quickchartButtonEl.disabled = true;  // To prevent multiple clicks.\n",
              "      quickchartButtonEl.classList.add('colab-df-spinner');\n",
              "      try {\n",
              "        const charts = await google.colab.kernel.invokeFunction(\n",
              "            'suggestCharts', [key], {});\n",
              "      } catch (error) {\n",
              "        console.error('Error during call to suggestCharts:', error);\n",
              "      }\n",
              "      quickchartButtonEl.classList.remove('colab-df-spinner');\n",
              "      quickchartButtonEl.classList.add('colab-df-quickchart-complete');\n",
              "    }\n",
              "    (() => {\n",
              "      let quickchartButtonEl =\n",
              "        document.querySelector('#df-6beb00e7-b86d-4466-a29a-b5a5568c9186 button');\n",
              "      quickchartButtonEl.style.display =\n",
              "        google.colab.kernel.accessAllowed ? 'block' : 'none';\n",
              "    })();\n",
              "  </script>\n",
              "</div>\n",
              "    </div>\n",
              "  </div>\n"
            ]
          },
          "metadata": {},
          "execution_count": 3
        }
      ]
    },
    {
      "cell_type": "code",
      "source": [
        "import numpy as np\n",
        "np.set_printoptions(precision=None, threshold=None, edgeitems=None, linewidth=None, suppress=None, nanstr=None, infstr=None, formatter=None, sign=None, floatmode=None)  # reset print options\n",
        "##threshold\n",
        "# 當要列印的陣列太大時，NumPy會自動以...代替一部分的內容，以減少篇幅！\n",
        "# 但是可以透過全域設定set_printoptions設定threshold(門檻值)，\n",
        "# 元素數量少於或等於門檻值的陣列就會全部列印出來，\n",
        "# 相反地，元素數量高於門檻值，列印時就會省略部分內容。\n",
        "# 陣列大小:20，門檻值20 => 陣列元素數量小於等於門檻值，應列印全部內容\n",
        "# 讓列印出來的資料不斷行，使用lindwidth參數\n",
        "# 讓列印出來的資料不斷列，使用threshold參數\n",
        "\n",
        "# 查看 raw_data 前5筆資料並且讓列印出來的資料不斷行\n",
        "#np.set_printoptions(linewidth=np.inf, threshold=np.inf)\n",
        "np.printoptions(linewidth=np.inf, edgeitems=0)\n",
        "#print(raw_data.iloc[:,0:23])\n",
        "print(raw_data) #//待測試\n",
        "\n"
      ],
      "metadata": {
        "colab": {
          "base_uri": "https://localhost:8080/"
        },
        "id": "WgPrMnADYUT_",
        "outputId": "f7fdde77-9420-474e-a198-89aa4c964a1a"
      },
      "execution_count": 35,
      "outputs": [
        {
          "output_type": "stream",
          "name": "stdout",
          "text": [
            "     學校代碼        學校名稱 日間∕進修別   等級別     總計    男生計    女生計 一年級男生  一年級女生 二年級男生  \\\n",
            "0       1      國立政治大學    D 日  D 博士    922    530    392    78     63    88   \n",
            "1       1      國立政治大學    D 日  M 碩士  4,203  1,907  2,296   663    823   611   \n",
            "2       1      國立政治大學    D 日  B 學士  9,732  3,976  5,756   875  1,388   927   \n",
            "3       1      國立政治大學    N 職  M 碩士  1,870    921    949   278    292   278   \n",
            "4       2      國立清華大學    D 日  D 博士  1,669  1,169    500   227     97   215   \n",
            "..    ...         ...    ...   ...    ...    ...    ...   ...    ...   ...   \n",
            "778  1293  崇仁醫護管理專科學校    D 日  5 五專  3,051    431  2,620    82    511   106   \n",
            "779  3002      臺北市立大學    D 日  D 博士    211     95    116    16     17    15   \n",
            "780  3002      臺北市立大學    D 日  M 碩士  1,342    414    928   116    276   124   \n",
            "781  3002      臺北市立大學    D 日  B 學士  5,287  2,332  2,955   584    684   538   \n",
            "782  3002      臺北市立大學    N 職  M 碩士  1,191    328    863   112    268    90   \n",
            "\n",
            "     ... 五年級男生 五年級女生 六年級男生 六年級女生 七年級男生 七年級女生 延修生男生 延修生女生    縣市名稱   體系別  \n",
            "0    ...    70    50    66    45    75    40     -     -  30 臺北市  1 一般  \n",
            "1    ...     2     2     -     -     -     -     -     -  30 臺北市  1 一般  \n",
            "2    ...     -     -     -     -     -     -   336   430  30 臺北市  1 一般  \n",
            "3    ...    68    61     1     1     -     -     -     -  30 臺北市  1 一般  \n",
            "4    ...   139    67    94    41   131    54     -     -  18 新竹市  1 一般  \n",
            "..   ...   ...   ...   ...   ...   ...   ...   ...   ...     ...   ...  \n",
            "778  ...    68   507     -     -     -     -    14    41  10 嘉義縣  2 技職  \n",
            "779  ...    12    12     6     8    18    25     -     -  30 臺北市  1 一般  \n",
            "780  ...    18    51    26    53     -     -     -     -  30 臺北市  1 一般  \n",
            "781  ...     -     -     -     -     -     -   153   124  30 臺北市  1 一般  \n",
            "782  ...    25    51    18    48     -     -     -     -  30 臺北市  1 一般  \n",
            "\n",
            "[783 rows x 25 columns]\n"
          ]
        }
      ]
    },
    {
      "cell_type": "markdown",
      "source": [
        "1. 本資料集總共收集了多少學校，請依國立/私立、等級別、縣市別、北中南東區、體系別區分。\n",
        "2. 請問國立大學與私立大學在學男生女生比例為何?   延修生男生女生比例為何?\n",
        "3. 請問各體系學校在學男生女生比例為何?   延修生男生女生比例為何?\n",
        "4. 請問各縣市學校在學男生女生比例為何? 北中南東各區在學男生女生比例為何?\n",
        "5. 請問國立大學與私立大學等級別男生女生比例為何?   延修生男生女生比例為何?\n",
        "6. 請問各體系學校等級別男生女生比例為何?   延修生男生女生比例為何?\n",
        "7. 請問各縣市學校等級別男生女生比例為何?   北中南東各區在學男生女生比例為何?   延修生男生女生比例為何?\n",
        "8. 哪個學校在學人數最多?   依等級別區分? 依北中南東區分? 依體系別?\n",
        "\n"
      ],
      "metadata": {
        "id": "GsyRF3vHIDg7"
      }
    },
    {
      "cell_type": "code",
      "source": [
        "# 資料轉換的範例\n",
        "# 將學校名稱轉換成國立與私立，並新插入一欄在dataset中\n",
        "# 將縣市別轉換成北中南東區，並新插入一欄在dataset中\n",
        "\n",
        "np.set_printoptions(precision=None, threshold=None, edgeitems=None, linewidth=None, suppress=None, nanstr=None, infstr=None, formatter=None, sign=None, floatmode=None)  # reset print options\n",
        "np.printoptions(linewidth=5)\n",
        "Public_private_counts = raw_data['學校名稱'].value_counts()\n",
        "print(Public_private_counts, '\\n')\n",
        "\n",
        "Institution_type_counts = raw_data['體系別'].value_counts()\n",
        "Institution_type_counts"
      ],
      "metadata": {
        "colab": {
          "base_uri": "https://localhost:8080/"
        },
        "id": "qSWcx2TURDAj",
        "outputId": "1ad096e2-fcbc-4505-9428-ebeaff0b5210"
      },
      "execution_count": 43,
      "outputs": [
        {
          "output_type": "stream",
          "name": "stdout",
          "text": [
            "弘光科技大學        10\n",
            "國立臺北商業大學       9\n",
            "國立虎尾科技大學       9\n",
            "崑山科技大學         9\n",
            "正修科技大學         9\n",
            "              ..\n",
            "新生醫護管理專科學校     2\n",
            "馬偕醫護管理專科學校     2\n",
            "國立臺灣戲曲學院       1\n",
            "育英醫護管理專科學校     1\n",
            "崇仁醫護管理專科學校     1\n",
            "Name: 學校名稱, Length: 148, dtype: int64 \n",
            "\n"
          ]
        },
        {
          "output_type": "execute_result",
          "data": {
            "text/plain": [
              "2 技職    483\n",
              "1 一般    280\n",
              "3 師範     20\n",
              "Name: 體系別, dtype: int64"
            ]
          },
          "metadata": {},
          "execution_count": 43
        }
      ]
    },
    {
      "cell_type": "code",
      "source": [],
      "metadata": {
        "id": "5QTNfnDWUu-6"
      },
      "execution_count": null,
      "outputs": []
    },
    {
      "cell_type": "markdown",
      "source": [
        "2. 請依據 39 號學生的行為紀錄回答下列問題：\n",
        "於 dp001 平台總共進行幾次不重複的影片瀏覽的學習紀錄? (dp001_review_sn)(dp001_video_item_sn)"
      ],
      "metadata": {
        "id": "G3NGLtUHH8At"
      }
    },
    {
      "cell_type": "code",
      "source": [],
      "metadata": {
        "id": "85Tu03SdTfdR"
      },
      "execution_count": null,
      "outputs": []
    },
    {
      "cell_type": "code",
      "source": [],
      "metadata": {
        "id": "fqAwbPCFTfAn"
      },
      "execution_count": null,
      "outputs": []
    },
    {
      "cell_type": "markdown",
      "source": [
        "3. 請依據 71 號學生的行為紀錄回答下列問題：\n",
        "分別於哪幾天進入 dp001 平台? (dp001_review_start_time)( dp001_review_end_time)"
      ],
      "metadata": {
        "id": "xY1mGGjxLE1L"
      }
    },
    {
      "cell_type": "code",
      "source": [],
      "metadata": {
        "id": "feoWBbKsTizb"
      },
      "execution_count": null,
      "outputs": []
    },
    {
      "cell_type": "code",
      "source": [],
      "metadata": {
        "id": "W8dqVm5dTinT"
      },
      "execution_count": null,
      "outputs": []
    },
    {
      "cell_type": "markdown",
      "source": [
        "4. 請依據全體學生的行為紀錄回答下列問題：\n",
        "請找出在 dp001 平台中，最多影片瀏覽行為的影片序號 (dp001_review_sn)及其次數為多少?"
      ],
      "metadata": {
        "id": "GGVRuifQLroL"
      }
    },
    {
      "cell_type": "code",
      "source": [],
      "metadata": {
        "id": "PFFCHLIRTkQT"
      },
      "execution_count": null,
      "outputs": []
    },
    {
      "cell_type": "code",
      "source": [],
      "metadata": {
        "id": "yjBx8X7hTkFG"
      },
      "execution_count": null,
      "outputs": []
    },
    {
      "cell_type": "code",
      "source": [],
      "metadata": {
        "id": "WqfipovsTm0-"
      },
      "execution_count": null,
      "outputs": []
    },
    {
      "cell_type": "code",
      "source": [],
      "metadata": {
        "id": "gSPIAdT0TmpV"
      },
      "execution_count": null,
      "outputs": []
    },
    {
      "cell_type": "code",
      "source": [],
      "metadata": {
        "id": "rXDD2w14TpKf"
      },
      "execution_count": null,
      "outputs": []
    },
    {
      "cell_type": "code",
      "source": [],
      "metadata": {
        "id": "IZFO9N69To_z"
      },
      "execution_count": null,
      "outputs": []
    },
    {
      "cell_type": "code",
      "source": [],
      "metadata": {
        "id": "xe0YTpE8Tq0L"
      },
      "execution_count": null,
      "outputs": []
    },
    {
      "cell_type": "code",
      "source": [],
      "metadata": {
        "id": "0L3yzZPhTqrE"
      },
      "execution_count": null,
      "outputs": []
    },
    {
      "cell_type": "code",
      "source": [],
      "metadata": {
        "id": "SQdyOw6DTsY1"
      },
      "execution_count": null,
      "outputs": []
    },
    {
      "cell_type": "code",
      "source": [],
      "metadata": {
        "id": "K57gbbTWTsTC"
      },
      "execution_count": null,
      "outputs": []
    },
    {
      "cell_type": "code",
      "source": [],
      "metadata": {
        "id": "PO_g7ulyTuZl"
      },
      "execution_count": null,
      "outputs": []
    },
    {
      "cell_type": "code",
      "source": [],
      "metadata": {
        "id": "udLuC-YcTuR0"
      },
      "execution_count": null,
      "outputs": []
    },
    {
      "cell_type": "code",
      "source": [],
      "metadata": {
        "id": "ShlRnIWmTwLT"
      },
      "execution_count": null,
      "outputs": []
    },
    {
      "cell_type": "code",
      "source": [],
      "metadata": {
        "id": "v_SH7ORMTwAl"
      },
      "execution_count": null,
      "outputs": []
    }
  ]
}