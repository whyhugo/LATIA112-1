{
 "cells": [
  {
   "cell_type": "markdown",
   "id": "574c90a7-7c9c-491a-96ef-e01c3573cf9d",
   "metadata": {},
   "source": [
    "# OpenAI API keys 使用\n",
    "- You can apply your OpenAI API keys at [OpenAI Platform](https://platform.openai.com/account/api-keys).\n",
    "- To use Google Colab to run your code, please run the code below.\n",
    "    ```python\n",
    "from google.colab import drive  \n",
    "drive.mount('/content/drive')\n",
    "```"
   ]
  },
  {
   "cell_type": "code",
   "execution_count": null,
   "id": "8a3a09f3-4b05-4285-9d17-a690ed10e9af",
   "metadata": {},
   "outputs": [],
   "source": [
    "!pip install openai"
   ]
  },
  {
   "cell_type": "markdown",
   "id": "f6323916-0579-418d-a091-777fb5ae95e2",
   "metadata": {},
   "source": [
    "## Example"
   ]
  },
  {
   "cell_type": "code",
   "execution_count": null,
   "id": "52bcba65-7228-480f-bfe5-0ae22499de3f",
   "metadata": {},
   "outputs": [],
   "source": [
    "import openai\n",
    "\n",
    "# 方法一：直接設定金鑰\n",
    "# openai.api_key = \"your_api_key\"\n",
    "\n",
    "# 方法二：將 API key 儲存為檔案於 Google Drive\n",
    "# openai.api_key_path = \"/content/drive/My Drive/...\"\n",
    "\n",
    "# 方法三：將 API key 儲存為檔案於本地端\n",
    "openai.api_key_path = \"D:/programing/swiftx/NTNU/LATIA112-1 (private)/openai_api_key.txt\""
   ]
  },
  {
   "cell_type": "code",
   "execution_count": null,
   "id": "f57d1a88-d428-4a98-80dc-4f84286d715b",
   "metadata": {},
   "outputs": [],
   "source": [
    "reply = openai.ChatCompletion.create(\n",
    "    model = \"gpt-3.5-turbo\",\n",
    "    messages = [\n",
    "        {\"role\":\"user\", \"content\": \"Hello\"}\n",
    "    ]\n",
    ")"
   ]
  },
  {
   "cell_type": "code",
   "execution_count": null,
   "id": "349b5d8e-213d-4ad3-ae4b-bda7f1971ca5",
   "metadata": {},
   "outputs": [],
   "source": [
    "print(reply)"
   ]
  },
  {
   "cell_type": "markdown",
   "id": "65c915ba-393c-4a8c-9955-ace98c81b190",
   "metadata": {},
   "source": [
    "## Practice"
   ]
  },
  {
   "cell_type": "code",
   "execution_count": null,
   "id": "5ac0ec0d-981f-4ea1-9cd7-e4b35227013d",
   "metadata": {},
   "outputs": [],
   "source": [
    "reply = openai.ChatCompletion.create(\n",
    "    model = \"gpt-3.5-turbo\",\n",
    "    messages = [\n",
    "        {\"role\":\"system\", \"content\": \"You live in a vast forest.\"},\n",
    "        {\"role\":\"user\", \"content\": \"Is it very bright where you live?\"}\n",
    "    ]\n",
    ")"
   ]
  },
  {
   "cell_type": "code",
   "execution_count": null,
   "id": "261841fc-9189-4a26-af38-d499e13c746f",
   "metadata": {},
   "outputs": [],
   "source": [
    "print(reply[\"choices\"][0][\"message\"][\"content\"])"
   ]
  }
 ],
 "metadata": {
  "kernelspec": {
   "display_name": "Python 3 (ipykernel)",
   "language": "python",
   "name": "python3"
  },
  "language_info": {
   "codemirror_mode": {
    "name": "ipython",
    "version": 3
   },
   "file_extension": ".py",
   "mimetype": "text/x-python",
   "name": "python",
   "nbconvert_exporter": "python",
   "pygments_lexer": "ipython3",
   "version": "3.10.11"
  }
 },
 "nbformat": 4,
 "nbformat_minor": 5
}
